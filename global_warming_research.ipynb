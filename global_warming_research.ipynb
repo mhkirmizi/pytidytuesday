{
 "cells": [
  {
   "cell_type": "code",
   "execution_count": 1,
   "id": "bb868b04",
   "metadata": {},
   "outputs": [],
   "source": [
    "import pandas as pd\n",
    "import numpy as np\n",
    "import plotly.express as px"
   ]
  },
  {
   "cell_type": "code",
   "execution_count": 2,
   "id": "0278a110",
   "metadata": {},
   "outputs": [],
   "source": [
    "df = pd.read_csv('https://raw.githubusercontent.com/rfordatascience/tidytuesday/main/data/2025/2025-08-12/attribution_studies.csv')"
   ]
  },
  {
   "cell_type": "code",
   "execution_count": 3,
   "id": "677ba3ff",
   "metadata": {},
   "outputs": [
    {
     "data": {
      "text/html": [
       "<div>\n",
       "<style scoped>\n",
       "    .dataframe tbody tr th:only-of-type {\n",
       "        vertical-align: middle;\n",
       "    }\n",
       "\n",
       "    .dataframe tbody tr th {\n",
       "        vertical-align: top;\n",
       "    }\n",
       "\n",
       "    .dataframe thead th {\n",
       "        text-align: right;\n",
       "    }\n",
       "</style>\n",
       "<table border=\"1\" class=\"dataframe\">\n",
       "  <thead>\n",
       "    <tr style=\"text-align: right;\">\n",
       "      <th></th>\n",
       "      <th>event_name</th>\n",
       "      <th>event_period</th>\n",
       "      <th>event_year</th>\n",
       "      <th>study_focus</th>\n",
       "      <th>iso_country_code</th>\n",
       "      <th>cb_region</th>\n",
       "      <th>event_type</th>\n",
       "      <th>classification</th>\n",
       "      <th>summary_statement</th>\n",
       "      <th>publication_year</th>\n",
       "      <th>citation</th>\n",
       "      <th>source</th>\n",
       "      <th>rapid_study</th>\n",
       "      <th>link</th>\n",
       "    </tr>\n",
       "  </thead>\n",
       "  <tbody>\n",
       "    <tr>\n",
       "      <th>0</th>\n",
       "      <td>European summer heatwave</td>\n",
       "      <td>2003</td>\n",
       "      <td>2003</td>\n",
       "      <td>Event</td>\n",
       "      <td>NaN</td>\n",
       "      <td>Europe</td>\n",
       "      <td>Heat</td>\n",
       "      <td>More severe or more likely to occur</td>\n",
       "      <td>\"We estimate it is very likely (confidence lev...</td>\n",
       "      <td>2004.0</td>\n",
       "      <td>Stott, P. et al., 2004: Human contribution to ...</td>\n",
       "      <td>Nature</td>\n",
       "      <td>No</td>\n",
       "      <td>https://www.nature.com/nature/journal/v432/n70...</td>\n",
       "    </tr>\n",
       "    <tr>\n",
       "      <th>1</th>\n",
       "      <td>Global temperature extremes</td>\n",
       "      <td>since 1950</td>\n",
       "      <td>NaN</td>\n",
       "      <td>Trend</td>\n",
       "      <td>NaN</td>\n",
       "      <td>Global</td>\n",
       "      <td>Heat</td>\n",
       "      <td>More severe or more likely to occur</td>\n",
       "      <td>\"Comparing these observations with climate mod...</td>\n",
       "      <td>2005.0</td>\n",
       "      <td>Christidis, N. et al., 2005: Detection of chan...</td>\n",
       "      <td>Geophysical Research Letters</td>\n",
       "      <td>No</td>\n",
       "      <td>https://agupubs.onlinelibrary.wiley.com/doi/fu...</td>\n",
       "    </tr>\n",
       "    <tr>\n",
       "      <th>2</th>\n",
       "      <td>Record warm autumn in Europe</td>\n",
       "      <td>2006</td>\n",
       "      <td>2006</td>\n",
       "      <td>Event</td>\n",
       "      <td>NaN</td>\n",
       "      <td>Europe</td>\n",
       "      <td>Heat</td>\n",
       "      <td>More severe or more likely to occur</td>\n",
       "      <td>\"Global warming has made a warm autumn like th...</td>\n",
       "      <td>2007.0</td>\n",
       "      <td>Van Oldenborgh, G-J. et al., 2007: How unusual...</td>\n",
       "      <td>Climate of the Past</td>\n",
       "      <td>No</td>\n",
       "      <td>http://www.clim-past.net/3/659/2007/cp-3-659-2...</td>\n",
       "    </tr>\n",
       "    <tr>\n",
       "      <th>3</th>\n",
       "      <td>Increasing frequency of 'very warm' Northern h...</td>\n",
       "      <td>1860-2009</td>\n",
       "      <td>NaN</td>\n",
       "      <td>Trend</td>\n",
       "      <td>NaN</td>\n",
       "      <td>Northern hemisphere</td>\n",
       "      <td>Heat</td>\n",
       "      <td>More severe or more likely to occur</td>\n",
       "      <td>\"We detect the dominant influence of anthropog...</td>\n",
       "      <td>2007.0</td>\n",
       "      <td>Jones, G. et al., 2007: Human contribution to ...</td>\n",
       "      <td>Journal of Geophysical Research: Atmospheres</td>\n",
       "      <td>No</td>\n",
       "      <td>https://agupubs.onlinelibrary.wiley.com/doi/fu...</td>\n",
       "    </tr>\n",
       "    <tr>\n",
       "      <th>4</th>\n",
       "      <td>Moscow summer heatwave</td>\n",
       "      <td>2010</td>\n",
       "      <td>2010</td>\n",
       "      <td>Event</td>\n",
       "      <td>RUS</td>\n",
       "      <td>Europe</td>\n",
       "      <td>Heat</td>\n",
       "      <td>More severe or more likely to occur</td>\n",
       "      <td>\"For July temperature in Moscow, we estimate.....</td>\n",
       "      <td>2011.0</td>\n",
       "      <td>Rahmstorf, S. &amp; Coumou, D. 2011: Increase of e...</td>\n",
       "      <td>Proceedings of the National Academy of Sciences</td>\n",
       "      <td>No</td>\n",
       "      <td>http://www.pnas.org/content/108/44/17905.abstract</td>\n",
       "    </tr>\n",
       "  </tbody>\n",
       "</table>\n",
       "</div>"
      ],
      "text/plain": [
       "                                          event_name  ...                                               link\n",
       "0                           European summer heatwave  ...  https://www.nature.com/nature/journal/v432/n70...\n",
       "1                        Global temperature extremes  ...  https://agupubs.onlinelibrary.wiley.com/doi/fu...\n",
       "2                       Record warm autumn in Europe  ...  http://www.clim-past.net/3/659/2007/cp-3-659-2...\n",
       "3  Increasing frequency of 'very warm' Northern h...  ...  https://agupubs.onlinelibrary.wiley.com/doi/fu...\n",
       "4                             Moscow summer heatwave  ...  http://www.pnas.org/content/108/44/17905.abstract\n",
       "\n",
       "[5 rows x 14 columns]"
      ]
     },
     "execution_count": null,
     "metadata": {},
     "output_type": "execute_result"
    }
   ],
   "source": [
    "df.head()"
   ]
  },
  {
   "cell_type": "code",
   "execution_count": 4,
   "id": "6a13a611",
   "metadata": {},
   "outputs": [
    {
     "name": "stdout",
     "output_type": "stream",
     "text": [
      "<class 'pandas.core.frame.DataFrame'>\n",
      "RangeIndex: 744 entries, 0 to 743\n",
      "Data columns (total 14 columns):\n",
      " #   Column             Non-Null Count  Dtype  \n",
      "---  ------             --------------  -----  \n",
      " 0   event_name         744 non-null    object \n",
      " 1   event_period       735 non-null    object \n",
      " 2   event_year         592 non-null    object \n",
      " 3   study_focus        744 non-null    object \n",
      " 4   iso_country_code   520 non-null    object \n",
      " 5   cb_region          744 non-null    object \n",
      " 6   event_type         744 non-null    object \n",
      " 7   classification     744 non-null    object \n",
      " 8   summary_statement  744 non-null    object \n",
      " 9   publication_year   743 non-null    float64\n",
      " 10  citation           743 non-null    object \n",
      " 11  source             744 non-null    object \n",
      " 12  rapid_study        744 non-null    object \n",
      " 13  link               744 non-null    object \n",
      "dtypes: float64(1), object(13)\n",
      "memory usage: 81.5+ KB\n"
     ]
    }
   ],
   "source": [
    "df.info()"
   ]
  },
  {
   "cell_type": "code",
   "execution_count": 65,
   "id": "be46fc61",
   "metadata": {},
   "outputs": [],
   "source": [
    "df3 = df.groupby(['publication_year', 'event_type']).size().reset_index(name = 'count')"
   ]
  },
  {
   "cell_type": "code",
   "execution_count": 66,
   "id": "76acd8eb",
   "metadata": {},
   "outputs": [],
   "source": [
    "df3['publication_year'] = df3['publication_year'].astype(int)"
   ]
  },
  {
   "cell_type": "code",
   "execution_count": 67,
   "id": "bb672702",
   "metadata": {},
   "outputs": [],
   "source": [
    "df3_2010= df3.query('publication_year >=2010')"
   ]
  },
  {
   "cell_type": "code",
   "execution_count": 36,
   "id": "92b62789",
   "metadata": {},
   "outputs": [
    {
     "name": "stdout",
     "output_type": "stream",
     "text": [
      "<class 'pandas.core.frame.DataFrame'>\n",
      "Index: 358 entries, 6 to 363\n",
      "Data columns (total 4 columns):\n",
      " #   Column            Non-Null Count  Dtype \n",
      "---  ------            --------------  ----- \n",
      " 0   publication_year  358 non-null    int32 \n",
      " 1   cb_region         358 non-null    object\n",
      " 2   event_type        358 non-null    object\n",
      " 3   count             358 non-null    int64 \n",
      "dtypes: int32(1), int64(1), object(2)\n",
      "memory usage: 12.6+ KB\n"
     ]
    }
   ],
   "source": [
    "df3_2010.info()"
   ]
  },
  {
   "cell_type": "code",
   "execution_count": 68,
   "id": "abf95450",
   "metadata": {},
   "outputs": [],
   "source": [
    "df3_2020 = df3_2010.query('event_type.isin([\"Heat\", \"Drought\", \"Wildfire\"])')"
   ]
  },
  {
   "cell_type": "code",
   "execution_count": 102,
   "id": "bf1126f2",
   "metadata": {},
   "outputs": [
    {
     "data": {
      "application/vnd.plotly.v1+json": {
       "config": {
        "plotlyServerURL": "https://plot.ly"
       },
       "data": [
        {
         "hovertemplate": "event_type=Heat<br>publication_year=%{x}<br>count=%{y}<extra></extra>",
         "legendgroup": "Heat",
         "marker": {
          "color": "rgb(228,26,28)",
          "pattern": {
           "shape": ""
          }
         },
         "name": "Heat",
         "orientation": "v",
         "showlegend": true,
         "textposition": "auto",
         "type": "bar",
         "x": {
          "bdata": "2wcAANwHAADdBwAA3gcAAN8HAADgBwAA4QcAAOIHAADjBwAA5AcAAOUHAADmBwAA5wcAAOgHAAA=",
          "dtype": "i4"
         },
         "xaxis": "x",
         "y": {
          "bdata": "BwMGDRIYDhMJDQ4UFhU=",
          "dtype": "i1"
         },
         "yaxis": "y"
        },
        {
         "hovertemplate": "event_type=Drought<br>publication_year=%{x}<br>count=%{y}<extra></extra>",
         "legendgroup": "Drought",
         "marker": {
          "color": "rgb(55,126,184)",
          "pattern": {
           "shape": ""
          }
         },
         "name": "Drought",
         "orientation": "v",
         "showlegend": true,
         "textposition": "auto",
         "type": "bar",
         "x": {
          "bdata": "3AcAAN0HAADeBwAA3wcAAOAHAADhBwAA4gcAAOMHAADkBwAA5QcAAOYHAADnBwAA6AcAAA==",
          "dtype": "i4"
         },
         "xaxis": "x",
         "y": {
          "bdata": "AggHDggJCAUCCwkIDw==",
          "dtype": "i1"
         },
         "yaxis": "y"
        },
        {
         "hovertemplate": "event_type=Wildfire<br>publication_year=%{x}<br>count=%{y}<extra></extra>",
         "legendgroup": "Wildfire",
         "marker": {
          "color": "rgb(77,175,74)",
          "pattern": {
           "shape": ""
          }
         },
         "name": "Wildfire",
         "orientation": "v",
         "showlegend": true,
         "textposition": "auto",
         "type": "bar",
         "x": {
          "bdata": "3wcAAOAHAADhBwAA4gcAAOMHAADlBwAA5gcAAOcHAADoBwAA",
          "dtype": "i4"
         },
         "xaxis": "x",
         "y": {
          "bdata": "AQMBAwMIAwIG",
          "dtype": "i1"
         },
         "yaxis": "y"
        }
       ],
       "layout": {
        "annotations": [
         {
          "align": "left",
          "font": {
           "color": "black",
           "size": 14
          },
          "showarrow": false,
          "text": "Data = Carbon Brief | Vis by MhKirmizi",
          "x": 1,
          "xref": "paper",
          "y": -0.075,
          "yref": "paper"
         }
        ],
        "barmode": "relative",
        "height": 756,
        "legend": {
         "font": {
          "color": "black",
          "family": "Montserrat",
          "size": 20
         },
         "itemsizing": "constant",
         "title": {
          "font": {
           "color": "black",
           "family": "Montserrat",
           "size": 24
          },
          "text": ""
         },
         "tracegroupgap": 0,
         "xanchor": "center",
         "yanchor": "bottom"
        },
        "margin": {
         "b": 50,
         "t": 75
        },
        "template": {
         "data": {
          "bar": [
           {
            "error_x": {
             "color": "rgb(51,51,51)"
            },
            "error_y": {
             "color": "rgb(51,51,51)"
            },
            "marker": {
             "line": {
              "color": "rgb(237,237,237)",
              "width": 0.5
             },
             "pattern": {
              "fillmode": "overlay",
              "size": 10,
              "solidity": 0.2
             }
            },
            "type": "bar"
           }
          ],
          "barpolar": [
           {
            "marker": {
             "line": {
              "color": "rgb(237,237,237)",
              "width": 0.5
             },
             "pattern": {
              "fillmode": "overlay",
              "size": 10,
              "solidity": 0.2
             }
            },
            "type": "barpolar"
           }
          ],
          "carpet": [
           {
            "aaxis": {
             "endlinecolor": "rgb(51,51,51)",
             "gridcolor": "white",
             "linecolor": "white",
             "minorgridcolor": "white",
             "startlinecolor": "rgb(51,51,51)"
            },
            "baxis": {
             "endlinecolor": "rgb(51,51,51)",
             "gridcolor": "white",
             "linecolor": "white",
             "minorgridcolor": "white",
             "startlinecolor": "rgb(51,51,51)"
            },
            "type": "carpet"
           }
          ],
          "choropleth": [
           {
            "colorbar": {
             "outlinewidth": 0,
             "tickcolor": "rgb(237,237,237)",
             "ticklen": 6,
             "ticks": "inside"
            },
            "type": "choropleth"
           }
          ],
          "contour": [
           {
            "colorbar": {
             "outlinewidth": 0,
             "tickcolor": "rgb(237,237,237)",
             "ticklen": 6,
             "ticks": "inside"
            },
            "colorscale": [
             [
              0,
              "rgb(20,44,66)"
             ],
             [
              1,
              "rgb(90,179,244)"
             ]
            ],
            "type": "contour"
           }
          ],
          "contourcarpet": [
           {
            "colorbar": {
             "outlinewidth": 0,
             "tickcolor": "rgb(237,237,237)",
             "ticklen": 6,
             "ticks": "inside"
            },
            "type": "contourcarpet"
           }
          ],
          "heatmap": [
           {
            "colorbar": {
             "outlinewidth": 0,
             "tickcolor": "rgb(237,237,237)",
             "ticklen": 6,
             "ticks": "inside"
            },
            "colorscale": [
             [
              0,
              "rgb(20,44,66)"
             ],
             [
              1,
              "rgb(90,179,244)"
             ]
            ],
            "type": "heatmap"
           }
          ],
          "histogram": [
           {
            "marker": {
             "pattern": {
              "fillmode": "overlay",
              "size": 10,
              "solidity": 0.2
             }
            },
            "type": "histogram"
           }
          ],
          "histogram2d": [
           {
            "colorbar": {
             "outlinewidth": 0,
             "tickcolor": "rgb(237,237,237)",
             "ticklen": 6,
             "ticks": "inside"
            },
            "colorscale": [
             [
              0,
              "rgb(20,44,66)"
             ],
             [
              1,
              "rgb(90,179,244)"
             ]
            ],
            "type": "histogram2d"
           }
          ],
          "histogram2dcontour": [
           {
            "colorbar": {
             "outlinewidth": 0,
             "tickcolor": "rgb(237,237,237)",
             "ticklen": 6,
             "ticks": "inside"
            },
            "colorscale": [
             [
              0,
              "rgb(20,44,66)"
             ],
             [
              1,
              "rgb(90,179,244)"
             ]
            ],
            "type": "histogram2dcontour"
           }
          ],
          "mesh3d": [
           {
            "colorbar": {
             "outlinewidth": 0,
             "tickcolor": "rgb(237,237,237)",
             "ticklen": 6,
             "ticks": "inside"
            },
            "type": "mesh3d"
           }
          ],
          "parcoords": [
           {
            "line": {
             "colorbar": {
              "outlinewidth": 0,
              "tickcolor": "rgb(237,237,237)",
              "ticklen": 6,
              "ticks": "inside"
             }
            },
            "type": "parcoords"
           }
          ],
          "pie": [
           {
            "automargin": true,
            "type": "pie"
           }
          ],
          "scatter": [
           {
            "fillpattern": {
             "fillmode": "overlay",
             "size": 10,
             "solidity": 0.2
            },
            "type": "scatter"
           }
          ],
          "scatter3d": [
           {
            "line": {
             "colorbar": {
              "outlinewidth": 0,
              "tickcolor": "rgb(237,237,237)",
              "ticklen": 6,
              "ticks": "inside"
             }
            },
            "marker": {
             "colorbar": {
              "outlinewidth": 0,
              "tickcolor": "rgb(237,237,237)",
              "ticklen": 6,
              "ticks": "inside"
             }
            },
            "type": "scatter3d"
           }
          ],
          "scattercarpet": [
           {
            "marker": {
             "colorbar": {
              "outlinewidth": 0,
              "tickcolor": "rgb(237,237,237)",
              "ticklen": 6,
              "ticks": "inside"
             }
            },
            "type": "scattercarpet"
           }
          ],
          "scattergeo": [
           {
            "marker": {
             "colorbar": {
              "outlinewidth": 0,
              "tickcolor": "rgb(237,237,237)",
              "ticklen": 6,
              "ticks": "inside"
             }
            },
            "type": "scattergeo"
           }
          ],
          "scattergl": [
           {
            "marker": {
             "colorbar": {
              "outlinewidth": 0,
              "tickcolor": "rgb(237,237,237)",
              "ticklen": 6,
              "ticks": "inside"
             }
            },
            "type": "scattergl"
           }
          ],
          "scattermap": [
           {
            "marker": {
             "colorbar": {
              "outlinewidth": 0,
              "tickcolor": "rgb(237,237,237)",
              "ticklen": 6,
              "ticks": "inside"
             }
            },
            "type": "scattermap"
           }
          ],
          "scattermapbox": [
           {
            "marker": {
             "colorbar": {
              "outlinewidth": 0,
              "tickcolor": "rgb(237,237,237)",
              "ticklen": 6,
              "ticks": "inside"
             }
            },
            "type": "scattermapbox"
           }
          ],
          "scatterpolar": [
           {
            "marker": {
             "colorbar": {
              "outlinewidth": 0,
              "tickcolor": "rgb(237,237,237)",
              "ticklen": 6,
              "ticks": "inside"
             }
            },
            "type": "scatterpolar"
           }
          ],
          "scatterpolargl": [
           {
            "marker": {
             "colorbar": {
              "outlinewidth": 0,
              "tickcolor": "rgb(237,237,237)",
              "ticklen": 6,
              "ticks": "inside"
             }
            },
            "type": "scatterpolargl"
           }
          ],
          "scatterternary": [
           {
            "marker": {
             "colorbar": {
              "outlinewidth": 0,
              "tickcolor": "rgb(237,237,237)",
              "ticklen": 6,
              "ticks": "inside"
             }
            },
            "type": "scatterternary"
           }
          ],
          "surface": [
           {
            "colorbar": {
             "outlinewidth": 0,
             "tickcolor": "rgb(237,237,237)",
             "ticklen": 6,
             "ticks": "inside"
            },
            "colorscale": [
             [
              0,
              "rgb(20,44,66)"
             ],
             [
              1,
              "rgb(90,179,244)"
             ]
            ],
            "type": "surface"
           }
          ],
          "table": [
           {
            "cells": {
             "fill": {
              "color": "rgb(237,237,237)"
             },
             "line": {
              "color": "white"
             }
            },
            "header": {
             "fill": {
              "color": "rgb(217,217,217)"
             },
             "line": {
              "color": "white"
             }
            },
            "type": "table"
           }
          ]
         },
         "layout": {
          "annotationdefaults": {
           "arrowhead": 0,
           "arrowwidth": 1
          },
          "autotypenumbers": "strict",
          "coloraxis": {
           "colorbar": {
            "outlinewidth": 0,
            "tickcolor": "rgb(237,237,237)",
            "ticklen": 6,
            "ticks": "inside"
           }
          },
          "colorscale": {
           "sequential": [
            [
             0,
             "rgb(20,44,66)"
            ],
            [
             1,
             "rgb(90,179,244)"
            ]
           ],
           "sequentialminus": [
            [
             0,
             "rgb(20,44,66)"
            ],
            [
             1,
             "rgb(90,179,244)"
            ]
           ]
          },
          "colorway": [
           "#F8766D",
           "#A3A500",
           "#00BF7D",
           "#00B0F6",
           "#E76BF3"
          ],
          "font": {
           "color": "rgb(51,51,51)"
          },
          "geo": {
           "bgcolor": "white",
           "lakecolor": "white",
           "landcolor": "rgb(237,237,237)",
           "showlakes": true,
           "showland": true,
           "subunitcolor": "white"
          },
          "hoverlabel": {
           "align": "left"
          },
          "hovermode": "closest",
          "paper_bgcolor": "white",
          "plot_bgcolor": "rgb(237,237,237)",
          "polar": {
           "angularaxis": {
            "gridcolor": "white",
            "linecolor": "white",
            "showgrid": true,
            "tickcolor": "rgb(51,51,51)",
            "ticks": "outside"
           },
           "bgcolor": "rgb(237,237,237)",
           "radialaxis": {
            "gridcolor": "white",
            "linecolor": "white",
            "showgrid": true,
            "tickcolor": "rgb(51,51,51)",
            "ticks": "outside"
           }
          },
          "scene": {
           "xaxis": {
            "backgroundcolor": "rgb(237,237,237)",
            "gridcolor": "white",
            "gridwidth": 2,
            "linecolor": "white",
            "showbackground": true,
            "showgrid": true,
            "tickcolor": "rgb(51,51,51)",
            "ticks": "outside",
            "zerolinecolor": "white"
           },
           "yaxis": {
            "backgroundcolor": "rgb(237,237,237)",
            "gridcolor": "white",
            "gridwidth": 2,
            "linecolor": "white",
            "showbackground": true,
            "showgrid": true,
            "tickcolor": "rgb(51,51,51)",
            "ticks": "outside",
            "zerolinecolor": "white"
           },
           "zaxis": {
            "backgroundcolor": "rgb(237,237,237)",
            "gridcolor": "white",
            "gridwidth": 2,
            "linecolor": "white",
            "showbackground": true,
            "showgrid": true,
            "tickcolor": "rgb(51,51,51)",
            "ticks": "outside",
            "zerolinecolor": "white"
           }
          },
          "shapedefaults": {
           "fillcolor": "black",
           "line": {
            "width": 0
           },
           "opacity": 0.3
          },
          "ternary": {
           "aaxis": {
            "gridcolor": "white",
            "linecolor": "white",
            "showgrid": true,
            "tickcolor": "rgb(51,51,51)",
            "ticks": "outside"
           },
           "baxis": {
            "gridcolor": "white",
            "linecolor": "white",
            "showgrid": true,
            "tickcolor": "rgb(51,51,51)",
            "ticks": "outside"
           },
           "bgcolor": "rgb(237,237,237)",
           "caxis": {
            "gridcolor": "white",
            "linecolor": "white",
            "showgrid": true,
            "tickcolor": "rgb(51,51,51)",
            "ticks": "outside"
           }
          },
          "xaxis": {
           "automargin": true,
           "gridcolor": "white",
           "linecolor": "white",
           "showgrid": true,
           "tickcolor": "rgb(51,51,51)",
           "ticks": "outside",
           "title": {
            "standoff": 15
           },
           "zerolinecolor": "white"
          },
          "yaxis": {
           "automargin": true,
           "gridcolor": "white",
           "linecolor": "white",
           "showgrid": true,
           "tickcolor": "rgb(51,51,51)",
           "ticks": "outside",
           "title": {
            "standoff": 15
           },
           "zerolinecolor": "white"
          }
         }
        },
        "title": {
         "font": {
          "color": "black",
          "family": "Montserrat",
          "size": 48,
          "weight": "bold"
         },
         "text": "Global Warming Research",
         "x": 0.5,
         "xanchor": "center"
        },
        "width": 1344,
        "xaxis": {
         "anchor": "y",
         "domain": [
          0,
          1
         ],
         "tickfont": {
          "color": "black",
          "family": "Montserrat",
          "size": 20
         },
         "title": {
          "font": {
           "color": "black",
           "family": "Montserrat",
           "size": 24
          },
          "text": ""
         }
        },
        "yaxis": {
         "anchor": "x",
         "domain": [
          0,
          1
         ],
         "tickfont": {
          "color": "black",
          "family": "Montserrat",
          "size": 20
         },
         "title": {
          "font": {
           "color": "black",
           "family": "Montserrat",
           "size": 24
          },
          "text": "Count"
         }
        }
       }
      }
     },
     "metadata": {},
     "output_type": "display_data"
    }
   ],
   "source": [
    "fig = px.bar(df3_2020, x = 'publication_year', \n",
    "                 y = 'count', \n",
    "                 template = 'ggplot2',\n",
    "                 color = 'event_type',\n",
    "                 color_discrete_sequence= px.colors.qualitative.Set1,\n",
    "                 width=1344, height=756,\n",
    "                 )\n",
    "fig.update_layout(\n",
    "    title = dict(\n",
    "        text = \"Global Warming Research\", \n",
    "        font=dict(size=48, color=\"black\", family=\"Montserrat\", weight='bold'), \n",
    "        x=0.5, \n",
    "        xanchor='center'\n",
    "    ), \n",
    "    xaxis=dict(\n",
    "        title=dict(\n",
    "            text=\"\",\n",
    "            font=dict(family=\"Montserrat\", size=24, color=\"black\")\n",
    "        ),\n",
    "        tickfont=dict(family=\"Montserrat\", size=20, color=\"black\")\n",
    "    ), \n",
    "    yaxis=dict(\n",
    "        title=dict(\n",
    "            text=\"Count\",\n",
    "            font=dict(family=\"Montserrat\", size=24, color=\"black\")\n",
    "        ),\n",
    "        tickfont=dict(family=\"Montserrat\", size=20, color=\"black\")\n",
    "    ), \n",
    "    legend = dict(\n",
    "        title = dict(  # ✅ Correct way to set legend title\n",
    "        text = \"\",\n",
    "        font = dict(size = 24, family = \"Montserrat\", color = \"black\")),\n",
    "        xanchor='center', \n",
    "        yanchor='bottom',\n",
    "        font = dict(\n",
    "            size = 20, \n",
    "            family = \"Montserrat\", \n",
    "            color = \"black\"\n",
    "        ), \n",
    "        itemsizing = 'constant'\n",
    "), \n",
    "annotations = [\n",
    "        dict(\n",
    "            text = \"Data = Carbon Brief | Vis by MhKirmizi\", \n",
    "            xref = \"paper\", yref= \"paper\", \n",
    "            x = 1., y = -.075, \n",
    "            showarrow = False, \n",
    "            font = dict(size = 14, color = \"black\"), \n",
    "            align = \"left\"\n",
    "        )\n",
    "    ],\n",
    "margin=dict(t=75, b=50))\n",
    "fig.show()\n",
    "fig.write_image(\"global_warming_research.png\", width=1920, height=1080, scale=2)"
   ]
  }
 ],
 "metadata": {
  "language_info": {
   "name": "python"
  }
 },
 "nbformat": 4,
 "nbformat_minor": 5
}
