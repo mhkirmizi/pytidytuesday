{
 "cells": [
  {
   "cell_type": "code",
   "execution_count": 2,
   "id": "5540c37b",
   "metadata": {},
   "outputs": [],
   "source": [
    "import pandas as pd\n",
    "import numpy as np\n",
    "import plotly \n",
    "import plotly.express as px"
   ]
  },
  {
   "cell_type": "code",
   "execution_count": 3,
   "id": "ae253ebb",
   "metadata": {},
   "outputs": [],
   "source": [
    "url = 'https://raw.githubusercontent.com/rfordatascience/tidytuesday/main/data/2025/2025-01-21/exped_tidy.csv'\n",
    "df = pd.read_csv(url, encoding='ISO-8859-1')\n"
   ]
  },
  {
   "cell_type": "code",
   "execution_count": 4,
   "id": "f8accd6d",
   "metadata": {},
   "outputs": [],
   "source": [
    "df = df[df['TOTDAYS'] != 0]"
   ]
  },
  {
   "cell_type": "code",
   "execution_count": 5,
   "id": "e2307bb3",
   "metadata": {},
   "outputs": [],
   "source": [
    "df = df[df['HIGHPOINT'] != 0]"
   ]
  },
  {
   "cell_type": "code",
   "execution_count": 6,
   "id": "610ec2c0",
   "metadata": {},
   "outputs": [],
   "source": [
    "df = df[df['SEASON_FACTOR'].isin(['Autumn', 'Spring'])] "
   ]
  },
  {
   "cell_type": "code",
   "execution_count": 7,
   "id": "1cfbd84e",
   "metadata": {},
   "outputs": [],
   "source": [
    "df['shape'] = df['TERMREASON'].eq(1).map({True: 'Success', False: 'Other'})"
   ]
  },
  {
   "cell_type": "code",
   "execution_count": 8,
   "id": "a8670e5a",
   "metadata": {},
   "outputs": [],
   "source": [
    "symbols = {\n",
    "    'Success': 'circle', \n",
    "    'Other': 'x'\n",
    "}"
   ]
  },
  {
   "cell_type": "code",
   "execution_count": 14,
   "id": "385d8c3e",
   "metadata": {},
   "outputs": [
    {
     "data": {
      "application/vnd.plotly.v1+json": {
       "config": {
        "plotlyServerURL": "https://plot.ly"
       },
       "data": [
        {
         "hovertemplate": "SEASON_FACTOR=Spring<br>shape=Success<br>HIGHPOINT=%{x}<br>TOTDAYS=%{y}<br>TOTMEMBERS=%{marker.size}<extra></extra>",
         "legendgroup": "Spring, Success",
         "marker": {
          "color": "#364C54",
          "size": {
           "bdata": "FBEHAwgKBAMOBxYCAxQjCAIPCAMCBQUICQ0KBwoGCgMIAwIDCAQDAgQDAgEFBwIGDAYEAgoSEBARAxMHBAULDwkBDgwJBgULAQMGCQwGAwEBAgQFAQUFBAICAgEFAgcGAgMDAgsTAiQODQUCBwoHBgQGAgQHDAcJAgYBAQIBBAICBQIBCwkIEg4DAwQFAgoSAg==",
           "dtype": "i1"
          },
          "sizemode": "area",
          "sizeref": 0.09,
          "symbol": "circle"
         },
         "mode": "markers",
         "name": "Spring, Success",
         "orientation": "v",
         "showlegend": true,
         "type": "scatter",
         "x": {
          "bdata": "kSKbH5sfmx+bH5sfmx/wG5EikSKRIpEikSKRIpEiDh+RIpEikSKRIpEikSKRIpEikSKRIpEikSKRIpEikSKRIpEikSKvF0QhRCFEIUQhRCFEIUQhRCFEIUQhnhqeGpsf5x/nH7wYwRmRIpEikSKRIpEikSKRIpEikSKRIpEikSKRIpEikSKRIpEikSKRIpEikSKRItYbiiGKIYohiiGKIYohmxdEIUQhRCFEIUQhRCFEIUQhJSElISYaWxibH5sfmx/+F/wf5x+RIpEikSKRIpEikSKRIpEikSKRIpEikSKRIugZbBqWHEQhRCFEIUQhRCFEIUQhRCHjH+MfuB64HuIbnhpMGfwfkSKRIpEikSKRIpEikSKRIpEidRu/GYohUhk=",
          "dtype": "i2"
         },
         "xaxis": "x",
         "y": {
          "bdata": "JhsQEBEaFQkwNSwbHi4tMxYpESESIDcrMhAgIRErMSQqLAQuDhseKiwrICQtCQ8gGRoWEyUiIyEqGAwnJRwdGiEJHS0oICEfERUMIhUTGwQJDyUqJiMMIh8lBgMNDBkpDQcOGzItFSUeKikpHR0kKSEfDB0yLSQRHgseNBgCLRsbDw4lKSMrJRYUFiAMExk0Aw==",
          "dtype": "i1"
         },
         "yaxis": "y"
        },
        {
         "hovertemplate": "SEASON_FACTOR=Spring<br>shape=Other<br>HIGHPOINT=%{x}<br>TOTDAYS=%{y}<br>TOTMEMBERS=%{marker.size}<extra></extra>",
         "legendgroup": "Spring, Other",
         "marker": {
          "color": "#364C54",
          "size": {
           "bdata": "BQYDAwoDAgIBCgkKCQIGCAUDDAEBCAwCAgEIAwICBQYJCQQTAgkDCAQCAwUEBwYCAgEHAgICAw==",
           "dtype": "i1"
          },
          "sizemode": "area",
          "sizeref": 0.09,
          "symbol": "x"
         },
         "mode": "markers",
         "name": "Spring, Other",
         "orientation": "v",
         "showlegend": true,
         "type": "scatter",
         "x": {
          "bdata": "6Bz0GnYWLBoAGeAVZBk6GwggvBu8G2QZWBvIGRQeIBy8G7wbvBvUF0wdeB6wHUwd4BXCGgAZ6BwYFWQZhBeMHhgVSBeJFzgYOBgAGTQhcRjWFcoXQB9EFngenBgAGUQWdhVEFvQaWBs/GRQg1Bc=",
          "dtype": "i2"
         },
         "xaxis": "x",
         "y": {
          "bdata": "DwwIKBgeDzYvGhMkMBIqKxoTKSMZMCkLIBgSGwsQFSYGDwYKGBEeFAcHIgwlBQ8UHgcSCwsdGA==",
          "dtype": "i1"
         },
         "yaxis": "y"
        },
        {
         "hovertemplate": "SEASON_FACTOR=Autumn<br>shape=Success<br>HIGHPOINT=%{x}<br>TOTDAYS=%{y}<br>TOTMEMBERS=%{marker.size}<extra></extra>",
         "legendgroup": "Autumn, Success",
         "marker": {
          "color": "#94475E",
          "size": {
           "bdata": "BgIBAQIGDQQHCAIIBAIDAgQIGAEBBggDDwYRCAQPAgICAgYLEQUDAQMPBQMIDQYDBAIDBQcFAgYDBAIGAgoGBwoBBwYEAg==",
           "dtype": "i1"
          },
          "sizemode": "area",
          "sizeref": 0.09,
          "symbol": "circle"
         },
         "mode": "markers",
         "name": "Autumn, Success",
         "orientation": "v",
         "showlegend": true,
         "type": "scatter",
         "x": {
          "bdata": "nhqeGp4a1hueGp4anhqeGp4anhqeGp4anhqeGoMdmRweGhcZ5x/nH+cfNhvWG9Yb1hvWG+MfgBm8GPkaZBnuF04cUhlSGZ4anhqeGp4anhqeGmUdyxrWG9Yb1hvWG+Mf6BX3Gf0XnhqeGmUd8BsXGSwachjqGNYb1hvWGx8a4x/jH+IbThx7G6QZpxk=",
          "dtype": "i2"
         },
         "xaxis": "x",
         "y": {
          "bdata": "CxEEEA4PFwMPCAgJBhAvDBMhIBARFhAMDwoUEBMIDg4MGhMMDQ8SBggcCg0ODw4QBgYTCRIWCAMUDAQPDxESGRcsCxIRAw==",
          "dtype": "i1"
         },
         "yaxis": "y"
        },
        {
         "hovertemplate": "SEASON_FACTOR=Autumn<br>shape=Other<br>HIGHPOINT=%{x}<br>TOTDAYS=%{y}<br>TOTMEMBERS=%{marker.size}<extra></extra>",
         "legendgroup": "Autumn, Other",
         "marker": {
          "color": "#94475E",
          "size": {
           "bdata": "BAQIAgQEAwEGCQoNEAYEAgkGBQUEBAYGBAQDFAkCBwICEwMPBAQBAwEDAgICBAQDCA==",
           "dtype": "i1"
          },
          "sizemode": "area",
          "sizeref": 0.09,
          "symbol": "x"
         },
         "mode": "markers",
         "name": "Autumn, Other",
         "orientation": "v",
         "showlegend": true,
         "type": "scatter",
         "x": {
          "bdata": "+hnUF3MXZBnUFyAcBh3QINwf3B/cH9wf3B/cH9wf3B/cH9wf3B/cH9wfDBc4GHAXcBf2GHAXIBxkGYgTQB+iF2oYiBOTF5AakBosGswQLBrCGpwY1BcUGZwYnBg4GKoZcBc=",
          "dtype": "i2"
         },
         "xaxis": "x",
         "y": {
          "bdata": "DQwbEQgfIQoYDRgRFBMUEBMTFBcVIQwTEwUZFgwSHgcIFBIWFhsZFRcSDhITEhIcDQ==",
          "dtype": "i1"
         },
         "yaxis": "y"
        }
       ],
       "layout": {
        "annotations": [
         {
          "font": {
           "size": 20
          },
          "showarrow": false,
          "text": "Mt. <b>Everest</b>, the highest point on Earth, poses significant challenges to climbers. <span style='color:#94475EFF;'><b>Spring</b></span> stands out as the season to reach the summit, whereas many teams attempted ascents in <br><span style='color:#364C54FF;'><b>Fall</b></span> but only few managed to reach a little over 8KM. Each dot represents a succesfull climb and and its size reflects the number of climbers in the team.",
          "x": 0.5,
          "xanchor": "center",
          "xref": "paper",
          "y": 1,
          "yanchor": "top",
          "yref": "paper"
         }
        ],
        "height": 756,
        "legend": {
         "itemsizing": "constant",
         "title": {
          "text": "SEASON_FACTOR, shape"
         },
         "tracegroupgap": 0
        },
        "margin": {
         "t": 60
        },
        "paper_bgcolor": "#F3F6FB",
        "plot_bgcolor": "#F3F6FB",
        "showlegend": false,
        "template": {
         "data": {
          "bar": [
           {
            "error_x": {
             "color": "#2a3f5f"
            },
            "error_y": {
             "color": "#2a3f5f"
            },
            "marker": {
             "line": {
              "color": "white",
              "width": 0.5
             },
             "pattern": {
              "fillmode": "overlay",
              "size": 10,
              "solidity": 0.2
             }
            },
            "type": "bar"
           }
          ],
          "barpolar": [
           {
            "marker": {
             "line": {
              "color": "white",
              "width": 0.5
             },
             "pattern": {
              "fillmode": "overlay",
              "size": 10,
              "solidity": 0.2
             }
            },
            "type": "barpolar"
           }
          ],
          "carpet": [
           {
            "aaxis": {
             "endlinecolor": "#2a3f5f",
             "gridcolor": "#C8D4E3",
             "linecolor": "#C8D4E3",
             "minorgridcolor": "#C8D4E3",
             "startlinecolor": "#2a3f5f"
            },
            "baxis": {
             "endlinecolor": "#2a3f5f",
             "gridcolor": "#C8D4E3",
             "linecolor": "#C8D4E3",
             "minorgridcolor": "#C8D4E3",
             "startlinecolor": "#2a3f5f"
            },
            "type": "carpet"
           }
          ],
          "choropleth": [
           {
            "colorbar": {
             "outlinewidth": 0,
             "ticks": ""
            },
            "type": "choropleth"
           }
          ],
          "contour": [
           {
            "colorbar": {
             "outlinewidth": 0,
             "ticks": ""
            },
            "colorscale": [
             [
              0,
              "#0d0887"
             ],
             [
              0.1111111111111111,
              "#46039f"
             ],
             [
              0.2222222222222222,
              "#7201a8"
             ],
             [
              0.3333333333333333,
              "#9c179e"
             ],
             [
              0.4444444444444444,
              "#bd3786"
             ],
             [
              0.5555555555555556,
              "#d8576b"
             ],
             [
              0.6666666666666666,
              "#ed7953"
             ],
             [
              0.7777777777777778,
              "#fb9f3a"
             ],
             [
              0.8888888888888888,
              "#fdca26"
             ],
             [
              1,
              "#f0f921"
             ]
            ],
            "type": "contour"
           }
          ],
          "contourcarpet": [
           {
            "colorbar": {
             "outlinewidth": 0,
             "ticks": ""
            },
            "type": "contourcarpet"
           }
          ],
          "heatmap": [
           {
            "colorbar": {
             "outlinewidth": 0,
             "ticks": ""
            },
            "colorscale": [
             [
              0,
              "#0d0887"
             ],
             [
              0.1111111111111111,
              "#46039f"
             ],
             [
              0.2222222222222222,
              "#7201a8"
             ],
             [
              0.3333333333333333,
              "#9c179e"
             ],
             [
              0.4444444444444444,
              "#bd3786"
             ],
             [
              0.5555555555555556,
              "#d8576b"
             ],
             [
              0.6666666666666666,
              "#ed7953"
             ],
             [
              0.7777777777777778,
              "#fb9f3a"
             ],
             [
              0.8888888888888888,
              "#fdca26"
             ],
             [
              1,
              "#f0f921"
             ]
            ],
            "type": "heatmap"
           }
          ],
          "histogram": [
           {
            "marker": {
             "pattern": {
              "fillmode": "overlay",
              "size": 10,
              "solidity": 0.2
             }
            },
            "type": "histogram"
           }
          ],
          "histogram2d": [
           {
            "colorbar": {
             "outlinewidth": 0,
             "ticks": ""
            },
            "colorscale": [
             [
              0,
              "#0d0887"
             ],
             [
              0.1111111111111111,
              "#46039f"
             ],
             [
              0.2222222222222222,
              "#7201a8"
             ],
             [
              0.3333333333333333,
              "#9c179e"
             ],
             [
              0.4444444444444444,
              "#bd3786"
             ],
             [
              0.5555555555555556,
              "#d8576b"
             ],
             [
              0.6666666666666666,
              "#ed7953"
             ],
             [
              0.7777777777777778,
              "#fb9f3a"
             ],
             [
              0.8888888888888888,
              "#fdca26"
             ],
             [
              1,
              "#f0f921"
             ]
            ],
            "type": "histogram2d"
           }
          ],
          "histogram2dcontour": [
           {
            "colorbar": {
             "outlinewidth": 0,
             "ticks": ""
            },
            "colorscale": [
             [
              0,
              "#0d0887"
             ],
             [
              0.1111111111111111,
              "#46039f"
             ],
             [
              0.2222222222222222,
              "#7201a8"
             ],
             [
              0.3333333333333333,
              "#9c179e"
             ],
             [
              0.4444444444444444,
              "#bd3786"
             ],
             [
              0.5555555555555556,
              "#d8576b"
             ],
             [
              0.6666666666666666,
              "#ed7953"
             ],
             [
              0.7777777777777778,
              "#fb9f3a"
             ],
             [
              0.8888888888888888,
              "#fdca26"
             ],
             [
              1,
              "#f0f921"
             ]
            ],
            "type": "histogram2dcontour"
           }
          ],
          "mesh3d": [
           {
            "colorbar": {
             "outlinewidth": 0,
             "ticks": ""
            },
            "type": "mesh3d"
           }
          ],
          "parcoords": [
           {
            "line": {
             "colorbar": {
              "outlinewidth": 0,
              "ticks": ""
             }
            },
            "type": "parcoords"
           }
          ],
          "pie": [
           {
            "automargin": true,
            "type": "pie"
           }
          ],
          "scatter": [
           {
            "fillpattern": {
             "fillmode": "overlay",
             "size": 10,
             "solidity": 0.2
            },
            "type": "scatter"
           }
          ],
          "scatter3d": [
           {
            "line": {
             "colorbar": {
              "outlinewidth": 0,
              "ticks": ""
             }
            },
            "marker": {
             "colorbar": {
              "outlinewidth": 0,
              "ticks": ""
             }
            },
            "type": "scatter3d"
           }
          ],
          "scattercarpet": [
           {
            "marker": {
             "colorbar": {
              "outlinewidth": 0,
              "ticks": ""
             }
            },
            "type": "scattercarpet"
           }
          ],
          "scattergeo": [
           {
            "marker": {
             "colorbar": {
              "outlinewidth": 0,
              "ticks": ""
             }
            },
            "type": "scattergeo"
           }
          ],
          "scattergl": [
           {
            "marker": {
             "colorbar": {
              "outlinewidth": 0,
              "ticks": ""
             }
            },
            "type": "scattergl"
           }
          ],
          "scattermap": [
           {
            "marker": {
             "colorbar": {
              "outlinewidth": 0,
              "ticks": ""
             }
            },
            "type": "scattermap"
           }
          ],
          "scattermapbox": [
           {
            "marker": {
             "colorbar": {
              "outlinewidth": 0,
              "ticks": ""
             }
            },
            "type": "scattermapbox"
           }
          ],
          "scatterpolar": [
           {
            "marker": {
             "colorbar": {
              "outlinewidth": 0,
              "ticks": ""
             }
            },
            "type": "scatterpolar"
           }
          ],
          "scatterpolargl": [
           {
            "marker": {
             "colorbar": {
              "outlinewidth": 0,
              "ticks": ""
             }
            },
            "type": "scatterpolargl"
           }
          ],
          "scatterternary": [
           {
            "marker": {
             "colorbar": {
              "outlinewidth": 0,
              "ticks": ""
             }
            },
            "type": "scatterternary"
           }
          ],
          "surface": [
           {
            "colorbar": {
             "outlinewidth": 0,
             "ticks": ""
            },
            "colorscale": [
             [
              0,
              "#0d0887"
             ],
             [
              0.1111111111111111,
              "#46039f"
             ],
             [
              0.2222222222222222,
              "#7201a8"
             ],
             [
              0.3333333333333333,
              "#9c179e"
             ],
             [
              0.4444444444444444,
              "#bd3786"
             ],
             [
              0.5555555555555556,
              "#d8576b"
             ],
             [
              0.6666666666666666,
              "#ed7953"
             ],
             [
              0.7777777777777778,
              "#fb9f3a"
             ],
             [
              0.8888888888888888,
              "#fdca26"
             ],
             [
              1,
              "#f0f921"
             ]
            ],
            "type": "surface"
           }
          ],
          "table": [
           {
            "cells": {
             "fill": {
              "color": "#EBF0F8"
             },
             "line": {
              "color": "white"
             }
            },
            "header": {
             "fill": {
              "color": "#C8D4E3"
             },
             "line": {
              "color": "white"
             }
            },
            "type": "table"
           }
          ]
         },
         "layout": {
          "annotationdefaults": {
           "arrowcolor": "#2a3f5f",
           "arrowhead": 0,
           "arrowwidth": 1
          },
          "autotypenumbers": "strict",
          "coloraxis": {
           "colorbar": {
            "outlinewidth": 0,
            "ticks": ""
           }
          },
          "colorscale": {
           "diverging": [
            [
             0,
             "#8e0152"
            ],
            [
             0.1,
             "#c51b7d"
            ],
            [
             0.2,
             "#de77ae"
            ],
            [
             0.3,
             "#f1b6da"
            ],
            [
             0.4,
             "#fde0ef"
            ],
            [
             0.5,
             "#f7f7f7"
            ],
            [
             0.6,
             "#e6f5d0"
            ],
            [
             0.7,
             "#b8e186"
            ],
            [
             0.8,
             "#7fbc41"
            ],
            [
             0.9,
             "#4d9221"
            ],
            [
             1,
             "#276419"
            ]
           ],
           "sequential": [
            [
             0,
             "#0d0887"
            ],
            [
             0.1111111111111111,
             "#46039f"
            ],
            [
             0.2222222222222222,
             "#7201a8"
            ],
            [
             0.3333333333333333,
             "#9c179e"
            ],
            [
             0.4444444444444444,
             "#bd3786"
            ],
            [
             0.5555555555555556,
             "#d8576b"
            ],
            [
             0.6666666666666666,
             "#ed7953"
            ],
            [
             0.7777777777777778,
             "#fb9f3a"
            ],
            [
             0.8888888888888888,
             "#fdca26"
            ],
            [
             1,
             "#f0f921"
            ]
           ],
           "sequentialminus": [
            [
             0,
             "#0d0887"
            ],
            [
             0.1111111111111111,
             "#46039f"
            ],
            [
             0.2222222222222222,
             "#7201a8"
            ],
            [
             0.3333333333333333,
             "#9c179e"
            ],
            [
             0.4444444444444444,
             "#bd3786"
            ],
            [
             0.5555555555555556,
             "#d8576b"
            ],
            [
             0.6666666666666666,
             "#ed7953"
            ],
            [
             0.7777777777777778,
             "#fb9f3a"
            ],
            [
             0.8888888888888888,
             "#fdca26"
            ],
            [
             1,
             "#f0f921"
            ]
           ]
          },
          "colorway": [
           "#636efa",
           "#EF553B",
           "#00cc96",
           "#ab63fa",
           "#FFA15A",
           "#19d3f3",
           "#FF6692",
           "#B6E880",
           "#FF97FF",
           "#FECB52"
          ],
          "font": {
           "color": "#2a3f5f"
          },
          "geo": {
           "bgcolor": "white",
           "lakecolor": "white",
           "landcolor": "white",
           "showlakes": true,
           "showland": true,
           "subunitcolor": "#C8D4E3"
          },
          "hoverlabel": {
           "align": "left"
          },
          "hovermode": "closest",
          "mapbox": {
           "style": "light"
          },
          "paper_bgcolor": "white",
          "plot_bgcolor": "white",
          "polar": {
           "angularaxis": {
            "gridcolor": "#EBF0F8",
            "linecolor": "#EBF0F8",
            "ticks": ""
           },
           "bgcolor": "white",
           "radialaxis": {
            "gridcolor": "#EBF0F8",
            "linecolor": "#EBF0F8",
            "ticks": ""
           }
          },
          "scene": {
           "xaxis": {
            "backgroundcolor": "white",
            "gridcolor": "#DFE8F3",
            "gridwidth": 2,
            "linecolor": "#EBF0F8",
            "showbackground": true,
            "ticks": "",
            "zerolinecolor": "#EBF0F8"
           },
           "yaxis": {
            "backgroundcolor": "white",
            "gridcolor": "#DFE8F3",
            "gridwidth": 2,
            "linecolor": "#EBF0F8",
            "showbackground": true,
            "ticks": "",
            "zerolinecolor": "#EBF0F8"
           },
           "zaxis": {
            "backgroundcolor": "white",
            "gridcolor": "#DFE8F3",
            "gridwidth": 2,
            "linecolor": "#EBF0F8",
            "showbackground": true,
            "ticks": "",
            "zerolinecolor": "#EBF0F8"
           }
          },
          "shapedefaults": {
           "line": {
            "color": "#2a3f5f"
           }
          },
          "ternary": {
           "aaxis": {
            "gridcolor": "#DFE8F3",
            "linecolor": "#A2B1C6",
            "ticks": ""
           },
           "baxis": {
            "gridcolor": "#DFE8F3",
            "linecolor": "#A2B1C6",
            "ticks": ""
           },
           "bgcolor": "white",
           "caxis": {
            "gridcolor": "#DFE8F3",
            "linecolor": "#A2B1C6",
            "ticks": ""
           }
          },
          "title": {
           "x": 0.05
          },
          "xaxis": {
           "automargin": true,
           "gridcolor": "#EBF0F8",
           "linecolor": "#EBF0F8",
           "ticks": "",
           "title": {
            "standoff": 15
           },
           "zerolinecolor": "#EBF0F8",
           "zerolinewidth": 2
          },
          "yaxis": {
           "automargin": true,
           "gridcolor": "#EBF0F8",
           "linecolor": "#EBF0F8",
           "ticks": "",
           "title": {
            "standoff": 15
           },
           "zerolinecolor": "#EBF0F8",
           "zerolinewidth": 2
          }
         }
        },
        "title": {
         "font": {
          "color": "black",
          "family": "Playfair Display",
          "size": 48,
          "weight": "bold"
         },
         "text": "To the Summit: Expeditions to the Roof of the World",
         "x": 0.5,
         "xanchor": "center",
         "y": 0.98
        },
        "width": 1344,
        "xaxis": {
         "anchor": "y",
         "domain": [
          0,
          1
         ],
         "tickfont": {
          "color": "black",
          "family": "Lato",
          "size": 20
         },
         "ticktext": [
          "5KM",
          "6KM",
          "7KM",
          "8KM"
         ],
         "tickvals": [
          5000,
          6000,
          7000,
          8000
         ],
         "title": {
          "font": {
           "color": "black",
           "family": "Lato",
           "size": 24
          },
          "text": " "
         }
        },
        "yaxis": {
         "anchor": "x",
         "domain": [
          0,
          1
         ],
         "tickfont": {
          "color": "black",
          "family": "Lato",
          "size": 20
         },
         "title": {
          "font": {
           "color": "black",
           "family": "Lato",
           "size": 24
          },
          "text": "Days to Summit"
         }
        }
       }
      }
     },
     "metadata": {},
     "output_type": "display_data"
    }
   ],
   "source": [
    "fig = px.scatter(data_frame=df, x = 'HIGHPOINT', \n",
    "           y = 'TOTDAYS', \n",
    "           color=\"SEASON_FACTOR\", \n",
    "           size='TOTMEMBERS', \n",
    "           symbol= 'shape', \n",
    "           symbol_map=symbols,\n",
    "           color_discrete_sequence=['#364C54', '#94475E'],\n",
    "           template='plotly_white',\n",
    "           width=1344, height=756\n",
    "           )\n",
    "fig.update_layout(\n",
    "    title = dict(\n",
    "        text = 'To the Summit: Expeditions to the Roof of the World', \n",
    "        font = dict(size = 48, color = 'black', family=\"Playfair Display\", weight='bold'), \n",
    "        x = 0.5, y = .98,\n",
    "        xanchor = 'center'\n",
    "    ), \n",
    "     xaxis=dict(\n",
    "        title=dict(\n",
    "            text=\" \",\n",
    "            font=dict(family=\"Lato\", size=24, color=\"black\")\n",
    "        ),\n",
    "        tickfont=dict(family=\"Lato\", size=20, color=\"black\"), \n",
    "        tickvals = [5000, 6000, 7000, 8000], \n",
    "        ticktext = [\"5KM\", \"6KM\", \"7KM\", \"8KM\"]\n",
    "    ), \n",
    "    yaxis = dict(\n",
    "        title = dict(\n",
    "            text = \"Days to Summit\", \n",
    "            font = dict(family=\"Lato\", size=24, color=\"black\")\n",
    "        ),\n",
    "        tickfont=dict(family=\"Lato\", size=20, color=\"black\")\n",
    "    ), \n",
    "    annotations=[\n",
    "        dict(\n",
    "            text=\"Mt. <b>Everest</b>, the highest point on Earth, poses significant challenges to climbers. <span style='color:#94475EFF;'><b>Spring</b></span> stands out as the season to reach the summit, whereas many teams attempted ascents in <br><span style='color:#364C54FF;'><b>Fall</b></span> but only few managed to reach a little over 8KM. Each dot represents a succesfull climb and and its size reflects the number of climbers in the team.\",\n",
    "            x=0.5,\n",
    "            y=1,\n",
    "            xref='paper',\n",
    "            yref='paper',\n",
    "            showarrow=False,\n",
    "            font=dict(size=20),\n",
    "            xanchor='center',\n",
    "            yanchor='top'\n",
    "        )\n",
    "    ],\n",
    "showlegend =  False, \n",
    "plot_bgcolor = '#F3F6FB', \n",
    "paper_bgcolor = '#F3F6FB',\n",
    ")\n",
    "fig.show()\n",
    "fig.write_image(\"to_the_summit.png\", width=1920, height=1080, scale=2)"
   ]
  }
 ],
 "metadata": {
  "kernelspec": {
   "display_name": "base",
   "language": "python",
   "name": "python3"
  },
  "language_info": {
   "codemirror_mode": {
    "name": "ipython",
    "version": 3
   },
   "file_extension": ".py",
   "mimetype": "text/x-python",
   "name": "python",
   "nbconvert_exporter": "python",
   "pygments_lexer": "ipython3",
   "version": "3.12.7"
  }
 },
 "nbformat": 4,
 "nbformat_minor": 5
}
