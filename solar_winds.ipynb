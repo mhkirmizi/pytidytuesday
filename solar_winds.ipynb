{
 "cells": [
  {
   "cell_type": "code",
   "execution_count": 1,
   "id": "dfba3a8d",
   "metadata": {},
   "outputs": [],
   "source": [
    "import pandas as pd\n",
    "import numpy as np\n",
    "import plotly.express as px"
   ]
  },
  {
   "cell_type": "code",
   "execution_count": 2,
   "id": "1bf672b1",
   "metadata": {},
   "outputs": [],
   "source": [
    "wind = pd.read_csv('https://raw.githubusercontent.com/rfordatascience/tidytuesday/master/data/2022/2022-05-03/wind.csv')\n",
    "solar = pd.read_csv('https://raw.githubusercontent.com/rfordatascience/tidytuesday/master/data/2022/2022-05-03/solar.csv')"
   ]
  },
  {
   "cell_type": "code",
   "execution_count": 3,
   "id": "a65aa41a",
   "metadata": {},
   "outputs": [
    {
     "data": {
      "text/html": [
       "<div>\n",
       "<style scoped>\n",
       "    .dataframe tbody tr th:only-of-type {\n",
       "        vertical-align: middle;\n",
       "    }\n",
       "\n",
       "    .dataframe tbody tr th {\n",
       "        vertical-align: top;\n",
       "    }\n",
       "\n",
       "    .dataframe thead th {\n",
       "        text-align: right;\n",
       "    }\n",
       "</style>\n",
       "<table border=\"1\" class=\"dataframe\">\n",
       "  <thead>\n",
       "    <tr style=\"text-align: right;\">\n",
       "      <th></th>\n",
       "      <th>date</th>\n",
       "      <th>solar_mwh</th>\n",
       "      <th>solar_capacity</th>\n",
       "    </tr>\n",
       "  </thead>\n",
       "  <tbody>\n",
       "    <tr>\n",
       "      <th>0</th>\n",
       "      <td>2009-02-23</td>\n",
       "      <td>132.096789</td>\n",
       "      <td>30.0</td>\n",
       "    </tr>\n",
       "    <tr>\n",
       "      <th>1</th>\n",
       "      <td>2009-03-01</td>\n",
       "      <td>159.502398</td>\n",
       "      <td>30.0</td>\n",
       "    </tr>\n",
       "    <tr>\n",
       "      <th>2</th>\n",
       "      <td>2009-03-05</td>\n",
       "      <td>150.760361</td>\n",
       "      <td>19.0</td>\n",
       "    </tr>\n",
       "    <tr>\n",
       "      <th>3</th>\n",
       "      <td>2009-05-01</td>\n",
       "      <td>210.070530</td>\n",
       "      <td>12.6</td>\n",
       "    </tr>\n",
       "    <tr>\n",
       "      <th>4</th>\n",
       "      <td>2009-05-08</td>\n",
       "      <td>142.783409</td>\n",
       "      <td>230.0</td>\n",
       "    </tr>\n",
       "  </tbody>\n",
       "</table>\n",
       "</div>"
      ],
      "text/plain": [
       "         date   solar_mwh  solar_capacity\n",
       "0  2009-02-23  132.096789            30.0\n",
       "1  2009-03-01  159.502398            30.0\n",
       "2  2009-03-05  150.760361            19.0\n",
       "3  2009-05-01  210.070530            12.6\n",
       "4  2009-05-08  142.783409           230.0"
      ]
     },
     "execution_count": null,
     "metadata": {},
     "output_type": "execute_result"
    }
   ],
   "source": [
    "solar.head()"
   ]
  },
  {
   "cell_type": "code",
   "execution_count": 4,
   "id": "e10cf89d",
   "metadata": {},
   "outputs": [
    {
     "data": {
      "text/html": [
       "<div>\n",
       "<style scoped>\n",
       "    .dataframe tbody tr th:only-of-type {\n",
       "        vertical-align: middle;\n",
       "    }\n",
       "\n",
       "    .dataframe tbody tr th {\n",
       "        vertical-align: top;\n",
       "    }\n",
       "\n",
       "    .dataframe thead th {\n",
       "        text-align: right;\n",
       "    }\n",
       "</style>\n",
       "<table border=\"1\" class=\"dataframe\">\n",
       "  <thead>\n",
       "    <tr style=\"text-align: right;\">\n",
       "      <th></th>\n",
       "      <th>date</th>\n",
       "      <th>wind_mwh</th>\n",
       "      <th>wind_capacity</th>\n",
       "    </tr>\n",
       "  </thead>\n",
       "  <tbody>\n",
       "    <tr>\n",
       "      <th>0</th>\n",
       "      <td>2009-01-28</td>\n",
       "      <td>54.096687</td>\n",
       "      <td>50.4</td>\n",
       "    </tr>\n",
       "    <tr>\n",
       "      <th>1</th>\n",
       "      <td>2009-01-30</td>\n",
       "      <td>62.326818</td>\n",
       "      <td>98.9</td>\n",
       "    </tr>\n",
       "    <tr>\n",
       "      <th>2</th>\n",
       "      <td>2009-02-02</td>\n",
       "      <td>52.531046</td>\n",
       "      <td>99.0</td>\n",
       "    </tr>\n",
       "    <tr>\n",
       "      <th>3</th>\n",
       "      <td>2009-02-05</td>\n",
       "      <td>93.790168</td>\n",
       "      <td>150.0</td>\n",
       "    </tr>\n",
       "    <tr>\n",
       "      <th>4</th>\n",
       "      <td>2009-02-05</td>\n",
       "      <td>96.546638</td>\n",
       "      <td>51.0</td>\n",
       "    </tr>\n",
       "  </tbody>\n",
       "</table>\n",
       "</div>"
      ],
      "text/plain": [
       "         date   wind_mwh  wind_capacity\n",
       "0  2009-01-28  54.096687           50.4\n",
       "1  2009-01-30  62.326818           98.9\n",
       "2  2009-02-02  52.531046           99.0\n",
       "3  2009-02-05  93.790168          150.0\n",
       "4  2009-02-05  96.546638           51.0"
      ]
     },
     "execution_count": null,
     "metadata": {},
     "output_type": "execute_result"
    }
   ],
   "source": [
    "wind.head()"
   ]
  },
  {
   "cell_type": "code",
   "execution_count": 5,
   "id": "0bd50929",
   "metadata": {},
   "outputs": [],
   "source": [
    "solar_cum= solar.groupby('date', as_index=False).agg(tot_solar_mwh = ('solar_mwh', 'sum'))\n"
   ]
  },
  {
   "cell_type": "code",
   "execution_count": 6,
   "id": "f80eb8af",
   "metadata": {},
   "outputs": [],
   "source": [
    "solar_cum['cum_solar_mwh'] = solar_cum['tot_solar_mwh'].cumsum()"
   ]
  },
  {
   "cell_type": "code",
   "execution_count": 7,
   "id": "d49692e3",
   "metadata": {},
   "outputs": [],
   "source": [
    "wind_cum = wind.groupby('date', as_index = False).agg(tot_wind_mwh = ('wind_mwh', 'sum'))\n",
    "wind_cum['cum_wind_mwh'] = wind_cum['tot_wind_mwh'].cumsum()"
   ]
  },
  {
   "cell_type": "code",
   "execution_count": 8,
   "id": "4e295e10",
   "metadata": {},
   "outputs": [
    {
     "data": {
      "text/html": [
       "<div>\n",
       "<style scoped>\n",
       "    .dataframe tbody tr th:only-of-type {\n",
       "        vertical-align: middle;\n",
       "    }\n",
       "\n",
       "    .dataframe tbody tr th {\n",
       "        vertical-align: top;\n",
       "    }\n",
       "\n",
       "    .dataframe thead th {\n",
       "        text-align: right;\n",
       "    }\n",
       "</style>\n",
       "<table border=\"1\" class=\"dataframe\">\n",
       "  <thead>\n",
       "    <tr style=\"text-align: right;\">\n",
       "      <th></th>\n",
       "      <th>date</th>\n",
       "      <th>tot_solar_mwh</th>\n",
       "      <th>cum_solar_mwh</th>\n",
       "    </tr>\n",
       "  </thead>\n",
       "  <tbody>\n",
       "    <tr>\n",
       "      <th>0</th>\n",
       "      <td>2009-02-23</td>\n",
       "      <td>132.096789</td>\n",
       "      <td>132.096789</td>\n",
       "    </tr>\n",
       "    <tr>\n",
       "      <th>1</th>\n",
       "      <td>2009-03-01</td>\n",
       "      <td>159.502398</td>\n",
       "      <td>291.599187</td>\n",
       "    </tr>\n",
       "    <tr>\n",
       "      <th>2</th>\n",
       "      <td>2009-03-05</td>\n",
       "      <td>150.760361</td>\n",
       "      <td>442.359548</td>\n",
       "    </tr>\n",
       "    <tr>\n",
       "      <th>3</th>\n",
       "      <td>2009-05-01</td>\n",
       "      <td>210.070530</td>\n",
       "      <td>652.430078</td>\n",
       "    </tr>\n",
       "    <tr>\n",
       "      <th>4</th>\n",
       "      <td>2009-05-08</td>\n",
       "      <td>142.783409</td>\n",
       "      <td>795.213486</td>\n",
       "    </tr>\n",
       "  </tbody>\n",
       "</table>\n",
       "</div>"
      ],
      "text/plain": [
       "         date  tot_solar_mwh  cum_solar_mwh\n",
       "0  2009-02-23     132.096789     132.096789\n",
       "1  2009-03-01     159.502398     291.599187\n",
       "2  2009-03-05     150.760361     442.359548\n",
       "3  2009-05-01     210.070530     652.430078\n",
       "4  2009-05-08     142.783409     795.213486"
      ]
     },
     "execution_count": null,
     "metadata": {},
     "output_type": "execute_result"
    }
   ],
   "source": [
    "solar_cum.head()"
   ]
  },
  {
   "cell_type": "code",
   "execution_count": 16,
   "id": "2c787a26",
   "metadata": {},
   "outputs": [],
   "source": [
    "solar_cum['type'] = 'solar'\n",
    "wind_cum['type'] = 'wind'\n",
    "solar_cum.rename(\n",
    "    columns = {'cum_solar_mwh':'cumalative_mwh'}, inplace = True\n",
    ")\n",
    "wind_cum.rename(\n",
    "   columns = {'cum_wind_mwh':'cumalative_mwh'}, inplace = True\n",
    ")"
   ]
  },
  {
   "cell_type": "code",
   "execution_count": 19,
   "id": "dab3caed",
   "metadata": {},
   "outputs": [],
   "source": [
    "df = pd.concat([solar_cum, wind_cum], ignore_index = True)\n"
   ]
  },
  {
   "cell_type": "code",
   "execution_count": 25,
   "id": "96887e4b",
   "metadata": {},
   "outputs": [],
   "source": [
    "df = df[['date', 'cumalative_mwh', 'type']]\n",
    "df.rename(\n",
    "    columns = {\n",
    "        'cumalative_mwh': 'cumulative_mwh'\n",
    "    }, \n",
    "    inplace = True\n",
    ")"
   ]
  },
  {
   "cell_type": "code",
   "execution_count": 46,
   "id": "7b3d4fa8",
   "metadata": {},
   "outputs": [
    {
     "data": {
      "application/vnd.plotly.v1+json": {
       "config": {
        "plotlyServerURL": "https://plot.ly"
       },
       "data": [
        {
         "hovertemplate": "type=solar<br>date=%{x}<br>cumulative_mwh=%{y}<extra></extra>",
         "legendgroup": "solar",
         "line": {
          "color": "#E5AD4F",
          "dash": "solid"
         },
         "marker": {
          "symbol": "circle"
         },
         "mode": "lines",
         "name": "solar",
         "orientation": "v",
         "showlegend": true,
         "type": "scatter",
         "x": [
          "2009-02-23",
          "2009-03-01",
          "2009-03-05",
          "2009-05-01",
          "2009-05-08",
          "2009-06-01",
          "2009-06-22",
          "2009-08-17",
          "2009-09-08",
          "2009-11-20",
          "2009-12-23",
          "2009-12-24",
          "2010-01-26",
          "2010-02-02",
          "2010-02-24",
          "2010-03-06",
          "2010-04-19",
          "2010-04-21",
          "2010-04-29",
          "2010-05-10",
          "2010-05-20",
          "2010-06-01",
          "2010-06-24",
          "2010-06-30",
          "2010-07-26",
          "2010-07-29",
          "2010-08-10",
          "2010-08-24",
          "2010-09-20",
          "2010-11-10",
          "2010-11-15",
          "2010-12-01",
          "2010-12-21",
          "2010-12-30",
          "2011-01-05",
          "2011-01-07",
          "2011-01-25",
          "2011-02-07",
          "2011-02-11",
          "2011-03-08",
          "2011-06-03",
          "2011-06-21",
          "2011-07-08",
          "2011-07-14",
          "2011-07-18",
          "2011-07-21",
          "2011-09-29",
          "2011-10-01",
          "2011-12-01",
          "2011-12-08",
          "2011-12-20",
          "2012-01-01",
          "2012-02-03",
          "2012-02-27",
          "2012-07-03",
          "2012-08-03",
          "2012-08-13",
          "2012-08-16",
          "2012-08-29",
          "2012-08-31",
          "2012-09-17",
          "2012-10-17",
          "2012-10-25",
          "2012-11-01",
          "2012-11-15",
          "2012-12-12",
          "2012-12-13",
          "2013-02-04",
          "2013-02-28",
          "2013-03-22",
          "2013-03-25",
          "2013-04-10",
          "2013-04-16",
          "2013-06-01",
          "2013-06-03",
          "2013-06-19",
          "2013-07-03",
          "2013-07-10",
          "2013-07-17",
          "2013-09-06",
          "2013-09-19",
          "2013-09-27",
          "2013-10-09",
          "2013-10-22",
          "2013-12-01",
          "2013-12-06",
          "2013-12-19",
          "2014-01-30",
          "2014-02-20",
          "2014-03-17",
          "2014-03-26",
          "2014-04-01",
          "2014-05-01",
          "2014-05-27",
          "2014-06-01",
          "2014-06-12",
          "2014-07-18",
          "2014-07-23",
          "2014-07-24",
          "2014-08-19",
          "2014-08-25",
          "2014-09-03",
          "2014-09-04",
          "2014-10-03",
          "2014-10-08",
          "2014-10-20",
          "2014-10-21",
          "2014-10-22",
          "2014-10-24",
          "2014-11-07",
          "2014-11-13",
          "2014-11-18",
          "2014-12-09",
          "2015-02-01",
          "2015-03-02",
          "2015-03-03",
          "2015-03-04",
          "2015-03-05",
          "2015-03-23",
          "2015-03-25",
          "2015-04-03",
          "2015-04-14",
          "2015-04-17",
          "2015-04-30",
          "2015-05-27",
          "2015-06-01",
          "2015-06-05",
          "2015-06-09",
          "2015-06-19",
          "2015-06-23",
          "2015-06-25",
          "2015-06-30",
          "2015-07-01",
          "2015-07-15",
          "2015-07-16",
          "2015-07-21",
          "2015-08-05",
          "2015-08-09",
          "2015-08-12",
          "2015-08-16",
          "2015-08-28",
          "2015-09-03",
          "2015-09-23",
          "2015-09-24",
          "2015-09-28",
          "2015-10-01",
          "2015-10-08",
          "2015-10-09",
          "2015-11-05",
          "2015-11-06",
          "2015-11-09",
          "2015-11-10",
          "2015-11-20",
          "2015-11-30",
          "2015-12-17",
          "2015-12-18",
          "2016-01-06",
          "2016-04-12",
          "2016-05-19",
          "2016-08-04",
          "2016-08-26",
          "2016-08-29",
          "2016-09-15",
          "2016-09-20",
          "2016-09-22",
          "2016-11-18",
          "2016-12-13",
          "2016-12-15",
          "2017-01-03",
          "2017-01-12",
          "2017-01-17",
          "2017-01-31",
          "2017-03-23",
          "2017-03-31",
          "2017-04-01",
          "2017-05-22",
          "2017-05-25",
          "2017-05-26",
          "2017-06-01",
          "2017-06-07",
          "2017-06-19",
          "2017-06-20",
          "2017-06-26",
          "2017-07-28",
          "2017-08-08",
          "2017-09-23",
          "2017-09-26",
          "2017-10-06",
          "2017-10-30",
          "2017-11-13",
          "2017-12-08",
          "2017-12-14",
          "2017-12-15",
          "2018-01-05",
          "2018-01-09",
          "2018-01-29",
          "2018-02-01",
          "2018-02-21",
          "2018-04-16",
          "2018-05-07",
          "2018-05-16",
          "2018-05-30",
          "2018-06-01",
          "2018-06-06",
          "2018-06-08",
          "2018-06-13",
          "2018-06-27",
          "2018-07-10",
          "2018-08-10",
          "2018-08-22",
          "2018-08-23",
          "2018-08-31",
          "2018-09-20",
          "2018-10-01",
          "2018-10-18",
          "2018-11-01",
          "2018-12-11",
          "2019-02-01",
          "2019-02-14",
          "2019-03-21",
          "2019-03-22",
          "2019-05-30",
          "2019-06-27",
          "2019-07-01",
          "2019-07-25",
          "2019-08-08",
          "2019-08-19",
          "2019-09-19",
          "2019-09-22",
          "2019-10-17",
          "2019-11-19",
          "2019-11-21",
          "2019-11-26",
          "2019-12-20",
          "2020-03-25",
          "2020-04-08",
          "2020-06-01",
          "2020-08-24",
          "2020-09-23",
          "2020-09-25",
          "2020-12-30",
          "2021-01-15",
          "2021-02-01",
          "2021-02-04",
          "2021-02-23",
          "2021-03-25",
          "2021-06-01"
         ],
         "xaxis": "x",
         "y": {
          "bdata": "i8KO5BiDYEBfUbNEljlyQLSyIbXApXtAKqGNzHBjhECiVUg4tdmIQIhO1+3GMJVA26G0cUPKl0Ad0ot1nhCaQBj/VxrKG51AV7j3LZjxnkDePQfaJoOgQGQqJsmlI6ZACRMag/76qUBGvEKUPxGrQLSKHt7oLKxA0+esNYo4rUDzodr53A2uQJHJbIomJ69A9Hl72BcYsEBNVFHQTp2wQN+5oxbdPbFASoqtDvYFs0CsZkJqCIazQPTe5/5LT7RAP7F7FmXVtECcswwG1fC1QMqZguNKOLdApInIIrqqt0Bfq65HMCe4QENoZ0+mqbhA8ilY1alFuUBjvVtryWW6QFt3VzB94rpALVNyu+nku0DBXVcVpFO8QGM+90byzrxA0RsJm3RWvUCxb9e+Bcq9QPWiZYOmsr5AwFn0jvgQv0BiUBiBVfi/QO8ixJC4McBABm8C2flwwEBRjJgegqPAQI5/PW+rBcFAGzewpaI/wUDMjNWZjGrBQLrHxgtlr8FApxIewkcgwkBcilmbWlbCQBGhotPe5MJABs8E1MM2w0DvxC9dH2LDQPIIqEGAiMNAm2mB4Erlw0DKohEiShHEQBQ5cPTuPsRAgORmyHBrxEDcWrlYd5bEQLUTRR1KxMRAGowv9asgxUCdNotL5kvFQBdsGA3RZ8VAj4YDPVWLxUD/+07Jd7TFQL1SJVrb3MVAKltVAMEGxkCEIBWOtTjGQDmzzLLxYMZAPD3vISi3xkCnihmfCt3GQBdIGAmSB8dA3NdhodAmx0AvqcRzSkTHQLyF/78Xh8dAB+MbAjPTx0ASYZlz0e/HQO2eoZa1LMhAZVG7MUh8yEDoF6M7bZ3IQPz59UzJz8hAqsyfSqHvyEAHBOYgixDJQC8/Bd+AMMlAPxY3fEVZyUCeycCH0HrJQAbMy9ralslA6F4tABC5yUBahzLxfdHJQOLWbQoV8clAH/zEB6QOykCj4ajeCS/KQHeYryXsRMpAieBc+0ZkykAgcBnPEYXKQCnzEyiAocpAWfIDrb68ykBPwjyqd9nKQAgH5Lj8EstAE7EWgjQxy0C9ldp/aU/LQKYNIP+PaMtAUL26hI+by0DIKXbQHrnLQD3mZ8ZNYMxAamqo+4x8zEBdH2khgZvMQGD7BQtEhs1AYYwY63GnzUBXkn6t++3NQMx+uO7EDM5Ab3JSLS8lzkAAGwyBtkLOQOtkhGKDX85AXYmQtjOnzkAtMIBMXsbOQHWjurYQ7M5A4IGHaQIWz0A/Z96pDzjPQDQDws+bT89AJY6V1/l9z0AgWExzuJ3PQLv2KQI0uM9Ab2CBmW7sz0C+0kln3gbQQJjG1fdeGdBAM/6IZNsj0ECpL3G5wDTQQEWV/FbJP9BAWnicdAtM0EDRUssptlnQQJDfRob5aNBARV0XkPap0ECxToFT87bQQEtsI5ksw9BA92Gt6b/O0EDezILmANrQQKLapk9D5NBA69GdXczw0EA0yZRrVf3QQFXp5MYWCtFA7cy8M9Mc0UCXrh9tYzPRQGoQ7pCuPdFAqHobO5JH0UCplNd2bWfRQAZX8Seuc9FAxwrELlR+0UDrHNfFNIvRQKW70W5altFAzaWizfWf0UA3ASbx5qrRQJf1usXltdFAwdsEG2zB0UB6N+J44MvRQD3UVlnq/tFAWgCWHz0G0kD1cw2VuB3SQKys8fRjJtJA0pnV7qww0kDUf3t0nD3SQDmHLDRkSNJAj4hP4N5S0kCF7pmQbV3SQB9EonaTgtJAZBE/CsOT0kABciD8BJ7SQG2N/uv2pdJA/fmh5+uy0kBabmpZI+LSQFJmAZXv69JAlW96sgz10kARiZM+Rf3SQNCd+FAGFdNAxNhGGhki00CpXLrk3yjTQLM3NFsaTNNAI8DSTY1V00AntZe+l1zTQLtzc5EJZNNAtMYnORZr00B96fswPb/TQIWji8Bhy9NA5nygFKH000CH6ejJswDUQFccbcUuCNRA/tRghnoW1ECmKae3ZSTUQG/nKGP8K9RA1sH8H+c41EAjoWiFyj3UQO0//XDWQtRAyqjtRYlL1EDerNBDglHUQDFWZkV1WNRAl6+F4wBl1EBnlDdZM27UQJF2iYGgedRAsk41bCyh1ECLKWdht6jUQCpF/t+Tt9RAk9JUQljY1ECndOfELOfUQBCLWJJV7dRAq/Ugd7Xy1EDFSAVFbv3UQDtvEg2LB9VArWK/gH8O1UAX1lwlNxnVQKOniYzHJdVAaBg0lNYs1UDjNfV8fzLVQHXxQOziN9VACZmep/lH1UD4d2/Tz1jVQDn0FSsxYtVAEWRYrqpo1UDVLVngcXPVQDVD7pG0edVAA7J9mHOA1UAJsJPgYIXVQOy4BXYlitVAiOUOVPyR1UD2EOwRypXVQGM2URrUm9VA+MtAcFCh1UDNEPLLqarVQBu4JYtbtNVAHtrv3zvM1UDE1LkogNPVQBbiwVXg2NVAmwZ7cJ7e1UC5XBMsh+TVQEMPf9w479VAkpvG6cPz1UC+K4vNgPjVQDsqwGmQ/tVAQjvgWSgJ1kCAeZ9vrg7WQGvp4r/+E9ZA//V/xCgd1kDTVZ/t3zLWQNpz40DzNtZAY4+23Ao71kBCr+MgLUDWQIyBfmjhRNZAGVfMssxS1kA=",
          "dtype": "f8"
         },
         "yaxis": "y"
        },
        {
         "hovertemplate": "type=wind<br>date=%{x}<br>cumulative_mwh=%{y}<extra></extra>",
         "legendgroup": "wind",
         "line": {
          "color": "#BD5630",
          "dash": "solid"
         },
         "marker": {
          "symbol": "circle"
         },
         "mode": "lines",
         "name": "wind",
         "orientation": "v",
         "showlegend": true,
         "type": "scatter",
         "x": [
          "2009-01-28",
          "2009-01-30",
          "2009-02-02",
          "2009-02-05",
          "2009-02-19",
          "2009-03-17",
          "2009-03-24",
          "2009-03-31",
          "2009-04-01",
          "2009-04-10",
          "2009-04-29",
          "2009-04-30",
          "2009-06-10",
          "2009-06-22",
          "2009-06-30",
          "2009-07-09",
          "2009-07-30",
          "2009-08-01",
          "2009-08-05",
          "2009-08-17",
          "2009-08-26",
          "2009-09-08",
          "2009-09-25",
          "2009-10-01",
          "2009-10-05",
          "2009-10-09",
          "2009-11-02",
          "2009-11-16",
          "2009-11-24",
          "2009-11-30",
          "2009-12-02",
          "2009-12-09",
          "2009-12-17",
          "2009-12-28",
          "2010-01-28",
          "2010-02-05",
          "2010-02-12",
          "2010-03-05",
          "2010-03-29",
          "2010-04-01",
          "2010-04-16",
          "2010-04-19",
          "2010-04-23",
          "2010-04-29",
          "2010-05-04",
          "2010-05-19",
          "2010-06-01",
          "2010-06-02",
          "2010-06-03",
          "2010-06-04",
          "2010-06-09",
          "2010-06-21",
          "2010-06-30",
          "2010-07-07",
          "2010-07-09",
          "2010-07-15",
          "2010-07-21",
          "2010-07-22",
          "2010-08-10",
          "2010-08-16",
          "2010-08-20",
          "2010-09-01",
          "2010-09-08",
          "2010-09-17",
          "2010-09-22",
          "2010-10-11",
          "2010-10-18",
          "2010-11-05",
          "2010-11-12",
          "2010-12-06",
          "2010-12-09",
          "2010-12-17",
          "2010-12-22",
          "2010-12-23",
          "2011-02-01",
          "2011-03-10",
          "2011-04-06",
          "2011-04-20",
          "2011-05-05",
          "2011-05-06",
          "2011-05-13",
          "2011-05-16",
          "2011-05-20",
          "2011-06-07",
          "2011-06-21",
          "2011-06-27",
          "2011-06-28",
          "2011-06-29",
          "2011-07-06",
          "2011-07-15",
          "2011-07-28",
          "2011-08-03",
          "2011-08-08",
          "2011-08-15",
          "2011-08-17",
          "2011-08-30",
          "2011-09-07",
          "2011-09-12",
          "2011-09-13",
          "2011-10-01",
          "2011-11-03",
          "2011-11-08",
          "2011-11-16",
          "2011-11-28",
          "2011-12-09",
          "2011-12-13",
          "2011-12-15",
          "2011-12-20",
          "2011-12-22",
          "2012-01-19",
          "2012-02-07",
          "2012-02-15",
          "2012-02-17",
          "2012-02-28",
          "2012-03-13",
          "2012-03-17",
          "2012-03-29",
          "2012-04-11",
          "2012-05-27",
          "2012-08-31",
          "2012-11-01",
          "2012-12-14",
          "2013-01-16",
          "2013-02-07",
          "2013-04-16",
          "2013-05-06",
          "2013-05-24",
          "2013-06-01",
          "2013-06-05",
          "2013-06-15",
          "2013-06-21",
          "2013-06-28",
          "2013-07-02",
          "2013-07-07",
          "2013-07-08",
          "2013-07-10",
          "2013-07-17",
          "2013-07-24",
          "2013-08-12",
          "2013-08-20",
          "2013-09-11",
          "2013-10-09",
          "2013-10-10",
          "2013-10-17",
          "2013-10-25",
          "2013-11-01",
          "2013-11-06",
          "2013-11-18",
          "2013-12-11",
          "2013-12-20",
          "2013-12-27",
          "2014-01-21",
          "2014-01-23",
          "2014-01-24",
          "2014-02-27",
          "2014-06-11",
          "2014-07-01",
          "2014-08-01",
          "2014-08-14",
          "2014-09-11",
          "2014-09-24",
          "2014-10-30",
          "2014-12-01",
          "2014-12-17",
          "2014-12-31",
          "2015-03-24",
          "2015-04-07",
          "2015-04-24",
          "2015-05-01",
          "2015-05-04",
          "2015-05-22",
          "2015-06-09",
          "2015-07-08",
          "2015-07-24",
          "2015-08-07",
          "2015-09-15",
          "2015-09-17",
          "2015-10-01",
          "2015-10-09",
          "2015-10-16",
          "2015-10-27",
          "2015-11-09",
          "2015-11-19",
          "2015-11-20",
          "2015-12-04",
          "2015-12-16",
          "2015-12-18",
          "2015-12-23",
          "2016-01-08",
          "2016-01-19",
          "2016-02-01",
          "2016-02-02",
          "2016-03-03",
          "2016-03-04",
          "2016-05-12",
          "2016-05-31",
          "2016-07-18",
          "2016-07-26",
          "2016-08-11",
          "2016-10-28",
          "2016-11-01",
          "2016-11-11",
          "2016-12-01",
          "2016-12-05",
          "2016-12-06",
          "2016-12-15",
          "2017-01-01",
          "2017-01-27",
          "2017-02-09",
          "2017-02-17",
          "2017-03-07",
          "2017-03-13",
          "2017-03-14",
          "2017-05-05",
          "2017-05-17",
          "2017-06-06",
          "2017-06-09",
          "2017-06-20",
          "2017-07-07",
          "2017-07-19",
          "2017-07-21",
          "2017-08-01",
          "2017-08-11",
          "2017-09-01",
          "2017-09-26",
          "2017-10-01",
          "2017-10-02",
          "2017-10-12",
          "2017-10-16",
          "2017-11-15",
          "2017-11-17",
          "2017-12-20",
          "2017-12-21",
          "2018-01-10",
          "2018-01-22",
          "2018-03-13",
          "2018-04-20",
          "2018-07-22",
          "2018-08-20",
          "2018-08-31",
          "2018-10-05",
          "2018-10-19",
          "2018-10-22",
          "2018-11-19",
          "2018-11-21",
          "2018-12-05",
          "2018-12-31",
          "2019-01-03",
          "2019-01-08",
          "2019-01-11",
          "2019-01-22",
          "2019-02-06",
          "2019-02-11",
          "2019-03-07",
          "2019-05-16",
          "2019-05-21",
          "2019-06-05",
          "2019-07-08",
          "2019-08-21",
          "2019-09-22",
          "2019-10-03",
          "2019-10-17",
          "2019-11-25",
          "2019-12-20",
          "2020-04-15",
          "2020-04-16",
          "2020-05-27",
          "2020-06-04"
         ],
         "xaxis": "x",
         "y": {
          "bdata": "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",
          "dtype": "f8"
         },
         "yaxis": "y"
        }
       ],
       "layout": {
        "annotations": [
         {
          "align": "left",
          "font": {
           "color": "white",
           "size": 14
          },
          "showarrow": false,
          "text": "Original Work = Federica Gazzelloni  | Recreated & Updated by MhKirmizi",
          "x": 1,
          "xref": "paper",
          "y": -0.06,
          "yref": "paper"
         }
        ],
        "height": 756,
        "legend": {
         "font": {
          "color": "white",
          "family": "Noto Sans",
          "size": 20
         },
         "itemsizing": "constant",
         "orientation": "h",
         "title": {
          "text": ""
         },
         "tracegroupgap": 0,
         "x": 0.5,
         "xanchor": "center",
         "y": 0.95,
         "yanchor": "middle",
         "yref": "paper"
        },
        "margin": {
         "b": 50,
         "t": 72
        },
        "paper_bgcolor": "#121510",
        "plot_bgcolor": "#121510",
        "template": {
         "data": {
          "bar": [
           {
            "error_x": {
             "color": "#f2f5fa"
            },
            "error_y": {
             "color": "#f2f5fa"
            },
            "marker": {
             "line": {
              "color": "rgb(17,17,17)",
              "width": 0.5
             },
             "pattern": {
              "fillmode": "overlay",
              "size": 10,
              "solidity": 0.2
             }
            },
            "type": "bar"
           }
          ],
          "barpolar": [
           {
            "marker": {
             "line": {
              "color": "rgb(17,17,17)",
              "width": 0.5
             },
             "pattern": {
              "fillmode": "overlay",
              "size": 10,
              "solidity": 0.2
             }
            },
            "type": "barpolar"
           }
          ],
          "carpet": [
           {
            "aaxis": {
             "endlinecolor": "#A2B1C6",
             "gridcolor": "#506784",
             "linecolor": "#506784",
             "minorgridcolor": "#506784",
             "startlinecolor": "#A2B1C6"
            },
            "baxis": {
             "endlinecolor": "#A2B1C6",
             "gridcolor": "#506784",
             "linecolor": "#506784",
             "minorgridcolor": "#506784",
             "startlinecolor": "#A2B1C6"
            },
            "type": "carpet"
           }
          ],
          "choropleth": [
           {
            "colorbar": {
             "outlinewidth": 0,
             "ticks": ""
            },
            "type": "choropleth"
           }
          ],
          "contour": [
           {
            "colorbar": {
             "outlinewidth": 0,
             "ticks": ""
            },
            "colorscale": [
             [
              0,
              "#0d0887"
             ],
             [
              0.1111111111111111,
              "#46039f"
             ],
             [
              0.2222222222222222,
              "#7201a8"
             ],
             [
              0.3333333333333333,
              "#9c179e"
             ],
             [
              0.4444444444444444,
              "#bd3786"
             ],
             [
              0.5555555555555556,
              "#d8576b"
             ],
             [
              0.6666666666666666,
              "#ed7953"
             ],
             [
              0.7777777777777778,
              "#fb9f3a"
             ],
             [
              0.8888888888888888,
              "#fdca26"
             ],
             [
              1,
              "#f0f921"
             ]
            ],
            "type": "contour"
           }
          ],
          "contourcarpet": [
           {
            "colorbar": {
             "outlinewidth": 0,
             "ticks": ""
            },
            "type": "contourcarpet"
           }
          ],
          "heatmap": [
           {
            "colorbar": {
             "outlinewidth": 0,
             "ticks": ""
            },
            "colorscale": [
             [
              0,
              "#0d0887"
             ],
             [
              0.1111111111111111,
              "#46039f"
             ],
             [
              0.2222222222222222,
              "#7201a8"
             ],
             [
              0.3333333333333333,
              "#9c179e"
             ],
             [
              0.4444444444444444,
              "#bd3786"
             ],
             [
              0.5555555555555556,
              "#d8576b"
             ],
             [
              0.6666666666666666,
              "#ed7953"
             ],
             [
              0.7777777777777778,
              "#fb9f3a"
             ],
             [
              0.8888888888888888,
              "#fdca26"
             ],
             [
              1,
              "#f0f921"
             ]
            ],
            "type": "heatmap"
           }
          ],
          "histogram": [
           {
            "marker": {
             "pattern": {
              "fillmode": "overlay",
              "size": 10,
              "solidity": 0.2
             }
            },
            "type": "histogram"
           }
          ],
          "histogram2d": [
           {
            "colorbar": {
             "outlinewidth": 0,
             "ticks": ""
            },
            "colorscale": [
             [
              0,
              "#0d0887"
             ],
             [
              0.1111111111111111,
              "#46039f"
             ],
             [
              0.2222222222222222,
              "#7201a8"
             ],
             [
              0.3333333333333333,
              "#9c179e"
             ],
             [
              0.4444444444444444,
              "#bd3786"
             ],
             [
              0.5555555555555556,
              "#d8576b"
             ],
             [
              0.6666666666666666,
              "#ed7953"
             ],
             [
              0.7777777777777778,
              "#fb9f3a"
             ],
             [
              0.8888888888888888,
              "#fdca26"
             ],
             [
              1,
              "#f0f921"
             ]
            ],
            "type": "histogram2d"
           }
          ],
          "histogram2dcontour": [
           {
            "colorbar": {
             "outlinewidth": 0,
             "ticks": ""
            },
            "colorscale": [
             [
              0,
              "#0d0887"
             ],
             [
              0.1111111111111111,
              "#46039f"
             ],
             [
              0.2222222222222222,
              "#7201a8"
             ],
             [
              0.3333333333333333,
              "#9c179e"
             ],
             [
              0.4444444444444444,
              "#bd3786"
             ],
             [
              0.5555555555555556,
              "#d8576b"
             ],
             [
              0.6666666666666666,
              "#ed7953"
             ],
             [
              0.7777777777777778,
              "#fb9f3a"
             ],
             [
              0.8888888888888888,
              "#fdca26"
             ],
             [
              1,
              "#f0f921"
             ]
            ],
            "type": "histogram2dcontour"
           }
          ],
          "mesh3d": [
           {
            "colorbar": {
             "outlinewidth": 0,
             "ticks": ""
            },
            "type": "mesh3d"
           }
          ],
          "parcoords": [
           {
            "line": {
             "colorbar": {
              "outlinewidth": 0,
              "ticks": ""
             }
            },
            "type": "parcoords"
           }
          ],
          "pie": [
           {
            "automargin": true,
            "type": "pie"
           }
          ],
          "scatter": [
           {
            "marker": {
             "line": {
              "color": "#283442"
             }
            },
            "type": "scatter"
           }
          ],
          "scatter3d": [
           {
            "line": {
             "colorbar": {
              "outlinewidth": 0,
              "ticks": ""
             }
            },
            "marker": {
             "colorbar": {
              "outlinewidth": 0,
              "ticks": ""
             }
            },
            "type": "scatter3d"
           }
          ],
          "scattercarpet": [
           {
            "marker": {
             "colorbar": {
              "outlinewidth": 0,
              "ticks": ""
             }
            },
            "type": "scattercarpet"
           }
          ],
          "scattergeo": [
           {
            "marker": {
             "colorbar": {
              "outlinewidth": 0,
              "ticks": ""
             }
            },
            "type": "scattergeo"
           }
          ],
          "scattergl": [
           {
            "marker": {
             "line": {
              "color": "#283442"
             }
            },
            "type": "scattergl"
           }
          ],
          "scattermap": [
           {
            "marker": {
             "colorbar": {
              "outlinewidth": 0,
              "ticks": ""
             }
            },
            "type": "scattermap"
           }
          ],
          "scattermapbox": [
           {
            "marker": {
             "colorbar": {
              "outlinewidth": 0,
              "ticks": ""
             }
            },
            "type": "scattermapbox"
           }
          ],
          "scatterpolar": [
           {
            "marker": {
             "colorbar": {
              "outlinewidth": 0,
              "ticks": ""
             }
            },
            "type": "scatterpolar"
           }
          ],
          "scatterpolargl": [
           {
            "marker": {
             "colorbar": {
              "outlinewidth": 0,
              "ticks": ""
             }
            },
            "type": "scatterpolargl"
           }
          ],
          "scatterternary": [
           {
            "marker": {
             "colorbar": {
              "outlinewidth": 0,
              "ticks": ""
             }
            },
            "type": "scatterternary"
           }
          ],
          "surface": [
           {
            "colorbar": {
             "outlinewidth": 0,
             "ticks": ""
            },
            "colorscale": [
             [
              0,
              "#0d0887"
             ],
             [
              0.1111111111111111,
              "#46039f"
             ],
             [
              0.2222222222222222,
              "#7201a8"
             ],
             [
              0.3333333333333333,
              "#9c179e"
             ],
             [
              0.4444444444444444,
              "#bd3786"
             ],
             [
              0.5555555555555556,
              "#d8576b"
             ],
             [
              0.6666666666666666,
              "#ed7953"
             ],
             [
              0.7777777777777778,
              "#fb9f3a"
             ],
             [
              0.8888888888888888,
              "#fdca26"
             ],
             [
              1,
              "#f0f921"
             ]
            ],
            "type": "surface"
           }
          ],
          "table": [
           {
            "cells": {
             "fill": {
              "color": "#506784"
             },
             "line": {
              "color": "rgb(17,17,17)"
             }
            },
            "header": {
             "fill": {
              "color": "#2a3f5f"
             },
             "line": {
              "color": "rgb(17,17,17)"
             }
            },
            "type": "table"
           }
          ]
         },
         "layout": {
          "annotationdefaults": {
           "arrowcolor": "#f2f5fa",
           "arrowhead": 0,
           "arrowwidth": 1
          },
          "autotypenumbers": "strict",
          "coloraxis": {
           "colorbar": {
            "outlinewidth": 0,
            "ticks": ""
           }
          },
          "colorscale": {
           "diverging": [
            [
             0,
             "#8e0152"
            ],
            [
             0.1,
             "#c51b7d"
            ],
            [
             0.2,
             "#de77ae"
            ],
            [
             0.3,
             "#f1b6da"
            ],
            [
             0.4,
             "#fde0ef"
            ],
            [
             0.5,
             "#f7f7f7"
            ],
            [
             0.6,
             "#e6f5d0"
            ],
            [
             0.7,
             "#b8e186"
            ],
            [
             0.8,
             "#7fbc41"
            ],
            [
             0.9,
             "#4d9221"
            ],
            [
             1,
             "#276419"
            ]
           ],
           "sequential": [
            [
             0,
             "#0d0887"
            ],
            [
             0.1111111111111111,
             "#46039f"
            ],
            [
             0.2222222222222222,
             "#7201a8"
            ],
            [
             0.3333333333333333,
             "#9c179e"
            ],
            [
             0.4444444444444444,
             "#bd3786"
            ],
            [
             0.5555555555555556,
             "#d8576b"
            ],
            [
             0.6666666666666666,
             "#ed7953"
            ],
            [
             0.7777777777777778,
             "#fb9f3a"
            ],
            [
             0.8888888888888888,
             "#fdca26"
            ],
            [
             1,
             "#f0f921"
            ]
           ],
           "sequentialminus": [
            [
             0,
             "#0d0887"
            ],
            [
             0.1111111111111111,
             "#46039f"
            ],
            [
             0.2222222222222222,
             "#7201a8"
            ],
            [
             0.3333333333333333,
             "#9c179e"
            ],
            [
             0.4444444444444444,
             "#bd3786"
            ],
            [
             0.5555555555555556,
             "#d8576b"
            ],
            [
             0.6666666666666666,
             "#ed7953"
            ],
            [
             0.7777777777777778,
             "#fb9f3a"
            ],
            [
             0.8888888888888888,
             "#fdca26"
            ],
            [
             1,
             "#f0f921"
            ]
           ]
          },
          "colorway": [
           "#636efa",
           "#EF553B",
           "#00cc96",
           "#ab63fa",
           "#FFA15A",
           "#19d3f3",
           "#FF6692",
           "#B6E880",
           "#FF97FF",
           "#FECB52"
          ],
          "font": {
           "color": "#f2f5fa"
          },
          "geo": {
           "bgcolor": "rgb(17,17,17)",
           "lakecolor": "rgb(17,17,17)",
           "landcolor": "rgb(17,17,17)",
           "showlakes": true,
           "showland": true,
           "subunitcolor": "#506784"
          },
          "hoverlabel": {
           "align": "left"
          },
          "hovermode": "closest",
          "mapbox": {
           "style": "dark"
          },
          "paper_bgcolor": "rgb(17,17,17)",
          "plot_bgcolor": "rgb(17,17,17)",
          "polar": {
           "angularaxis": {
            "gridcolor": "#506784",
            "linecolor": "#506784",
            "ticks": ""
           },
           "bgcolor": "rgb(17,17,17)",
           "radialaxis": {
            "gridcolor": "#506784",
            "linecolor": "#506784",
            "ticks": ""
           }
          },
          "scene": {
           "xaxis": {
            "backgroundcolor": "rgb(17,17,17)",
            "gridcolor": "#506784",
            "gridwidth": 2,
            "linecolor": "#506784",
            "showbackground": true,
            "ticks": "",
            "zerolinecolor": "#C8D4E3"
           },
           "yaxis": {
            "backgroundcolor": "rgb(17,17,17)",
            "gridcolor": "#506784",
            "gridwidth": 2,
            "linecolor": "#506784",
            "showbackground": true,
            "ticks": "",
            "zerolinecolor": "#C8D4E3"
           },
           "zaxis": {
            "backgroundcolor": "rgb(17,17,17)",
            "gridcolor": "#506784",
            "gridwidth": 2,
            "linecolor": "#506784",
            "showbackground": true,
            "ticks": "",
            "zerolinecolor": "#C8D4E3"
           }
          },
          "shapedefaults": {
           "line": {
            "color": "#f2f5fa"
           }
          },
          "sliderdefaults": {
           "bgcolor": "#C8D4E3",
           "bordercolor": "rgb(17,17,17)",
           "borderwidth": 1,
           "tickwidth": 0
          },
          "ternary": {
           "aaxis": {
            "gridcolor": "#506784",
            "linecolor": "#506784",
            "ticks": ""
           },
           "baxis": {
            "gridcolor": "#506784",
            "linecolor": "#506784",
            "ticks": ""
           },
           "bgcolor": "rgb(17,17,17)",
           "caxis": {
            "gridcolor": "#506784",
            "linecolor": "#506784",
            "ticks": ""
           }
          },
          "title": {
           "x": 0.05
          },
          "updatemenudefaults": {
           "bgcolor": "#506784",
           "borderwidth": 0
          },
          "xaxis": {
           "automargin": true,
           "gridcolor": "#283442",
           "linecolor": "#506784",
           "ticks": "",
           "title": {
            "standoff": 15
           },
           "zerolinecolor": "#283442",
           "zerolinewidth": 2
          },
          "yaxis": {
           "automargin": true,
           "gridcolor": "#283442",
           "linecolor": "#506784",
           "ticks": "",
           "title": {
            "standoff": 15
           },
           "zerolinecolor": "#283442",
           "zerolinewidth": 2
          }
         }
        },
        "title": {
         "font": {
          "color": "#6D8325",
          "family": "Noto Sans",
          "size": 48,
          "weight": "bold"
         },
         "text": "Projectile Cumulative Price",
         "x": 0.5,
         "xanchor": "center",
         "y": 1
        },
        "width": 1344,
        "xaxis": {
         "anchor": "y",
         "domain": [
          0,
          1
         ],
         "showgrid": false,
         "tickfont": {
          "color": "white",
          "family": "Noto Sans",
          "size": 20
         },
         "title": {
          "font": {
           "color": "white",
           "family": "Noto Sans",
           "size": 24
          },
          "text": " "
         }
        },
        "yaxis": {
         "anchor": "x",
         "domain": [
          0,
          1
         ],
         "gridcolor": "lightgray",
         "griddash": "dash",
         "gridwidth": 1,
         "showgrid": true,
         "tickfont": {
          "color": "white",
          "family": "Noto Sans",
          "size": 20
         },
         "title": {
          "font": {
           "color": "white",
           "family": "Noto Sans",
           "size": 24
          },
          "text": "Price in $"
         }
        }
       }
      }
     },
     "metadata": {},
     "output_type": "display_data"
    }
   ],
   "source": [
    "fig = px.line(\n",
    "    df, \n",
    "    x = 'date', \n",
    "    y = 'cumulative_mwh',\n",
    "    color = 'type', \n",
    "    color_discrete_sequence =['#E5AD4F', '#BD5630'],\n",
    "    template = 'plotly_dark', \n",
    "    width=1344, height=756)\n",
    "fig.update_layout(\n",
    "    title = dict(\n",
    "        text = 'Projectile Cumulative Price',\n",
    "        font = dict(size = 48, color = '#6D8325', family=\"Noto Sans\", weight='bold'), \n",
    "        x = .5, y = 1, \n",
    "        xanchor = 'center'\n",
    "    ),\n",
    "    xaxis=dict(\n",
    "        title=dict(\n",
    "            text=\" \",\n",
    "            font=dict(family=\"Noto Sans\", size=24, color=\"white\")\n",
    "        ),\n",
    "        tickfont=dict(family=\"Noto Sans\", size=20, color=\"white\"), \n",
    "        showgrid= False\n",
    "    ), \n",
    "    yaxis = dict(\n",
    "        title = dict(\n",
    "            text = \"Price in $\", \n",
    "            font = dict(family=\"Noto Sans\", size=24, color=\"white\")\n",
    "        ),\n",
    "        tickfont=dict(family=\"Noto Sans\", size=20, color=\"white\"), \n",
    "        showgrid = True, \n",
    "        gridcolor = 'lightgray', \n",
    "        gridwidth = 1, \n",
    "        griddash = 'dash'\n",
    "    ),\n",
    "    plot_bgcolor = '#121510', \n",
    "    paper_bgcolor = '#121510', \n",
    "    annotations = [\n",
    "        dict(\n",
    "            text = \"Original Work = Federica Gazzelloni  | Recreated & Updated by MhKirmizi\", \n",
    "            xref = \"paper\", yref= \"paper\", \n",
    "            x = 1, y = -.06, \n",
    "            showarrow = False, \n",
    "            font = dict(size = 14, color = \"white\"), \n",
    "            align = \"left\"\n",
    "        )\n",
    "    ],  \n",
    "    legend = dict(\n",
    "        orientation='h',\n",
    "        yref = 'paper',\n",
    "        x=.5, y=.95, \n",
    "        xanchor='center', \n",
    "        yanchor='middle',\n",
    "        font = dict(\n",
    "            size = 20, \n",
    "            family = \"Noto Sans\", \n",
    "            color = \"white\"\n",
    "        ), \n",
    "        itemsizing = 'constant'\n",
    "    ),\n",
    "    legend_title='',\n",
    "    margin=dict(t=72, b=50)\n",
    ")\n",
    "fig.show()\n",
    "fig.write_image(\"solar_winds.png\", width=1920, height=1080, scale=2)"
   ]
  }
 ],
 "metadata": {
  "language_info": {
   "name": "python"
  }
 },
 "nbformat": 4,
 "nbformat_minor": 5
}
